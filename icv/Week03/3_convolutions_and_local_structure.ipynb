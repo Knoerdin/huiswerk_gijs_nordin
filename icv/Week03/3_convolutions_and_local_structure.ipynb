{
 "cells": [
  {
   "cell_type": "markdown",
   "id": "heard-monthly",
   "metadata": {},
   "source": [
    "# Assignment 3: Convolutions and local structure\n",
    "\n",
    "## Working with notebooks\n",
    "\n",
    "The assignments for this course will be presented as Jupyter notebooks, similar to this one, containing programming tasks that are automatically graded.\n",
    "\n",
    "In an autograded assignment, you'll usually be required to complete the code of a Python function. \n",
    "It's **crucial not to alter** the function's name, inputs, or outputs, as they will be automatically tested. Please adhere closely to the assignment instructions.\n",
    "\n",
    "The autograder converts your notebook into a Python file by concatenating all code sections and testing the resulting Python file. Hence, it's essential to ensure that your code runs correctly and without interruption.\n",
    "***\n",
    "### **Important Notes**\n",
    "**_Always use_** `Kernel > Restart & Run All` and check the results **_before_** handing in your assignment.\n",
    "\n",
    "Some general tips:\n",
    "\n",
    "- Avoid using packages that are not already imported in the assignment template, and are not default Python packages.\n",
    "- Avoid using \"notebook magic\" like `%matplotlib inline`; such commands do not work when the notebook is converted to a Python script.\n",
    "***\n",
    "## Working with Codegrade\n",
    "\n",
    "The assignments for this course are automatically graded using a system called Codegrade. Your code will be tested automatically, and grades will be based solely on the correctness of the output.\n",
    "\n",
    "Some of the Codegrade tests will run immediately, allowing you to view the output/results before the deadline (it may take a few minutes to appear). Take advantage of this to verify that your code is functioning correctly and that you're on the right track for the assignments."
   ]
  },
  {
   "cell_type": "code",
   "execution_count": 3,
   "id": "linear-storm",
   "metadata": {},
   "outputs": [],
   "source": [
    "import numpy as np\n",
    "import matplotlib.pyplot as plt\n",
    "from scipy.ndimage import convolve\n",
    "from scipy.ndimage import uniform_filter\n",
    "import mpl_toolkits.mplot3d.art3d as art3d\n",
    "\n",
    "np.set_printoptions(precision=3,\n",
    "                    suppress=True) # change this in case you need more precision\n",
    "\n",
    "def imshow_row(imttllist, axs=False):\n",
    "    n = len(imttllist)\n",
    "    for i, imttl in enumerate(imttllist):\n",
    "        if imttl is None:\n",
    "            continue\n",
    "        im, ttl = imttl\n",
    "        plt.subplot(1,n,i+1)\n",
    "        plt.imshow(im, cmap='gray')\n",
    "        if not axs:\n",
    "            plt.axis('off')\n",
    "        plt.title(ttl)\n",
    "    \n",
    "def plot_stems3d(ax, x, y, z):\n",
    "    for xi, yi, zi in zip(x.flatten(), y.flatten(), z.flatten()):  \n",
    "        line=art3d.Line3D(*zip((xi, yi, 0), (xi, yi, zi)), marker='o', markevery=(1, 1))\n",
    "        ax.add_line(line)\n",
    "    ax.set_xlim3d(X.min(), X.max())\n",
    "    ax.set_ylim3d(Y.min(), Y.max())\n",
    "    ax.set_zlim3d(np.minimum(G.min(), 0), np.maximum(G.max(),0))\n",
    "\n",
    "    \n",
    "try:\n",
    "    Fcam = plt.imread('cameraman.png')\n",
    "except FileNotFoundError:\n",
    "    print(\"Please make sure cameraman.png is in your current directory\")"
   ]
  },
  {
   "cell_type": "markdown",
   "id": "divine-jenny",
   "metadata": {},
   "source": [
    "## Exercise 1: Separable Convolutions\n",
    "\n",
    "In the code cell below you have to time the three versions of the uniform convolution for values of N in ``sizes = np.array([3,5,7,9,11,15,19,25,31])``. You can use the ``timeit`` Python package for timing purposes (**set ``number=10`` and ``globals=globals()``**). You should present the timing results in *one* plot, clearly labelling the three versions and the axes. Then, answer the questions below.\n",
    "\n",
    "Note: this particular exercise is not autograded."
   ]
  },
  {
   "cell_type": "code",
   "execution_count": 5,
   "id": "successful-optimum",
   "metadata": {},
   "outputs": [],
   "source": [
    "### YOUR CODE HERE"
   ]
  },
  {
   "cell_type": "markdown",
   "id": "sacred-liabilities",
   "metadata": {},
   "source": [
    "**Questions.**\n",
    "\n",
    "1. Comment on the timing diagrams (are they showing the expected behaviour?)\n",
    "\n",
    "2. The timing of the ``uniform_filter`` should be surprising (hint: plot the timing diagrams for the separable convolution and the ``uniform_filter`` in one plot to see the difference more clearly) . Comment on this as well. What do you think is done to reach this performance?"
   ]
  },
  {
   "cell_type": "markdown",
   "id": "innocent-creator",
   "metadata": {},
   "source": [
    "YOUR ANSWER HERE"
   ]
  },
  {
   "cell_type": "markdown",
   "id": "pharmaceutical-retreat",
   "metadata": {},
   "source": [
    "## Exercise 2: Impulse responses\n",
    "\n",
    "The following filters from ``scipy.ndimage`` are all linear translation invariant filters:\n",
    " - `sobel`\n",
    " - `laplace`\n",
    " - `prewitt`\n",
    " - `gaussian_laplace`\n",
    "\n",
    "Some of these functions have parameters that result in different kernels being used.\n",
    "\n",
    "For each of these filter determine the impulse response. Return the impulse response function but only the smallest square part of the image centered at the middle showing non-zero responses. \n",
    "I.e. for the impulse response of the uniform filter of size 7x7 you should return a 7x7 array with all values 0.02 (remember, in the first cell, we have set the number of decimal digits to two...)."
   ]
  },
  {
   "cell_type": "code",
   "execution_count": 6,
   "id": "statistical-bachelor",
   "metadata": {},
   "outputs": [],
   "source": [
    "from scipy.ndimage import sobel, laplace, prewitt, gaussian_laplace\n",
    "\n",
    "def sobel_filter():\n",
    "    ### YOUR CODE HERE\n",
    "    raise NotImplementedError\n",
    "\n",
    "def laplace_filter():\n",
    "    ### YOUR CODE HERE\n",
    "    raise NotImplementedError\n",
    "\n",
    "def prewitt_filter():\n",
    "    ### YOUR CODE HERE\n",
    "    raise NotImplementedError\n",
    "\n",
    "def gaussian_laplace_filter():\n",
    "    ### YOUR CODE HERE\n",
    "    raise NotImplementedError\n"
   ]
  },
  {
   "cell_type": "markdown",
   "id": "parental-principle",
   "metadata": {},
   "source": [
    "To understand what these filters do, also run the filters on the cameraman image (or any other image of your liking). What do you expect to do, or have read the filter is supposed to do?"
   ]
  },
  {
   "cell_type": "markdown",
   "id": "bright-baghdad",
   "metadata": {},
   "source": [
    "## Exercise 3: Constructing the Laplace Filter\n",
    "\n",
    "Utilizing the right and left first-order derivative filters provided earlier, with convolution kernels `{1 -1 0}` and `{0 1 -1}` in both horizontal and vertical directions, can you construct the Laplace filter using these four first-order derivatives? \n",
    "\n",
    "*Hint*: Begin by expressing the impulse response as the sum of a horizontal and a vertical function. (In the code cell following this instruction, apply the provided definitions along with the `convolve` function to create the Laplace filter.)\n"
   ]
  },
  {
   "cell_type": "code",
   "execution_count": 8,
   "id": "victorian-mining",
   "metadata": {},
   "outputs": [],
   "source": [
    "def laplace_derivatives(I):\n",
    "    \"\"\"\n",
    "    Using only the convolve function and these four filters, compute the laplace filter of I.\n",
    "    \"\"\"\n",
    "    Dleft = np.array([[ 0,  1, -1]])\n",
    "    Dright = np.array([[ 1, -1,  0]])\n",
    "    Dup = Dleft.T\n",
    "    Ddown = Dright.T\n",
    "    \n",
    "    ### YOUR CODE HERE\n",
    "    raise NotImplementedError\n"
   ]
  },
  {
   "cell_type": "markdown",
   "id": "molecular-duplicate",
   "metadata": {},
   "source": [
    "## Exercise 4: Anaytical derivatives\n",
    "\n",
    "Consider the function $f$ in two variables:\n",
    "\\begin{align}\n",
    "f(x,y) = A\\sin(Vx) + B\\cos(Wy)\n",
    "\\end{align}\n",
    "\n",
    "We set the following values for the constants $A$, $B$, $V$ and $W$:\n",
    "\\begin{align}\n",
    "A &= 1\\\\\n",
    "B &= 2\\\\\n",
    "V &= \\frac{6\\pi}{100}\\\\\n",
    "W &= \\frac{4\\pi}{100}\n",
    "\\end{align}"
   ]
  },
  {
   "cell_type": "markdown",
   "id": "sixth-visiting",
   "metadata": {},
   "source": [
    "In the following cell, write code to create the discrete images $F$, $F_x$, and $F_y$. $F$ represents the sampled version of $f$ over the grid defined by $X$ and $Y$, while $F_x$ and $F_y$ correspond to the sampled derivatives $f_x$ and $f_y$, respectively. Then, display the three images side by side using the function `imshow_row`.\n"
   ]
  },
  {
   "cell_type": "code",
   "execution_count": 12,
   "id": "thick-morning",
   "metadata": {},
   "outputs": [],
   "source": [
    "def F_partial_derivatives(X, Y):\n",
    "    A = 1\n",
    "    B = 2\n",
    "    V = 6 * np.pi / 100\n",
    "    W = 4 * np.pi / 100\n",
    "\n",
    "    ### YOUR CODE HERE\n",
    "    raise NotImplementedError\n"
   ]
  },
  {
   "cell_type": "code",
   "execution_count": 13,
   "id": "requested-harvard",
   "metadata": {},
   "outputs": [
    {
     "ename": "NotImplementedError",
     "evalue": "",
     "output_type": "error",
     "traceback": [
      "\u001b[1;31m---------------------------------------------------------------------------\u001b[0m",
      "\u001b[1;31mNotImplementedError\u001b[0m                       Traceback (most recent call last)",
      "Cell \u001b[1;32mIn[13], line 5\u001b[0m\n\u001b[0;32m      2\u001b[0m y \u001b[38;5;241m=\u001b[39m np\u001b[38;5;241m.\u001b[39marange(\u001b[38;5;241m-\u001b[39m\u001b[38;5;241m50\u001b[39m,\u001b[38;5;241m51\u001b[39m)\n\u001b[0;32m      3\u001b[0m X, Y \u001b[38;5;241m=\u001b[39m np\u001b[38;5;241m.\u001b[39mmeshgrid(x, y)\n\u001b[1;32m----> 5\u001b[0m F, Fx, Fy \u001b[38;5;241m=\u001b[39m \u001b[43mF_partial_derivatives\u001b[49m\u001b[43m(\u001b[49m\u001b[43mX\u001b[49m\u001b[43m,\u001b[49m\u001b[43m \u001b[49m\u001b[43mY\u001b[49m\u001b[43m)\u001b[49m\n\u001b[0;32m      6\u001b[0m imshow_row([(F, \u001b[38;5;124mr\u001b[39m\u001b[38;5;124m\"\u001b[39m\u001b[38;5;124m$f$\u001b[39m\u001b[38;5;124m\"\u001b[39m),\n\u001b[0;32m      7\u001b[0m             (Fx, \u001b[38;5;124mr\u001b[39m\u001b[38;5;124m\"\u001b[39m\u001b[38;5;124m$f_x$\u001b[39m\u001b[38;5;124m\"\u001b[39m),\n\u001b[0;32m      8\u001b[0m             (Fy, \u001b[38;5;124mr\u001b[39m\u001b[38;5;124m\"\u001b[39m\u001b[38;5;124m$f_y$\u001b[39m\u001b[38;5;124m\"\u001b[39m)])\n\u001b[0;32m      9\u001b[0m plt\u001b[38;5;241m.\u001b[39mgray()\n",
      "Cell \u001b[1;32mIn[12], line 8\u001b[0m, in \u001b[0;36mF_partial_derivatives\u001b[1;34m(X, Y)\u001b[0m\n\u001b[0;32m      5\u001b[0m W \u001b[38;5;241m=\u001b[39m \u001b[38;5;241m4\u001b[39m \u001b[38;5;241m*\u001b[39m np\u001b[38;5;241m.\u001b[39mpi \u001b[38;5;241m/\u001b[39m \u001b[38;5;241m100\u001b[39m\n\u001b[0;32m      7\u001b[0m \u001b[38;5;66;03m### YOUR CODE HERE\u001b[39;00m\n\u001b[1;32m----> 8\u001b[0m \u001b[38;5;28;01mraise\u001b[39;00m \u001b[38;5;167;01mNotImplementedError\u001b[39;00m\n",
      "\u001b[1;31mNotImplementedError\u001b[0m: "
     ]
    }
   ],
   "source": [
    "x = np.arange(-50,51)\n",
    "y = np.arange(-50,51)\n",
    "X, Y = np.meshgrid(x, y)\n",
    "\n",
    "F, Fx, Fy = F_partial_derivatives(X, Y)\n",
    "imshow_row([(F, r\"$f$\"),\n",
    "            (Fx, r\"$f_x$\"),\n",
    "            (Fy, r\"$f_y$\")])\n",
    "plt.gray()"
   ]
  },
  {
   "cell_type": "markdown",
   "id": "pending-prisoner",
   "metadata": {},
   "source": [
    "Test your implemantation using the following code."
   ]
  },
  {
   "cell_type": "code",
   "execution_count": 14,
   "id": "dedicated-hampshire",
   "metadata": {},
   "outputs": [
    {
     "ename": "NameError",
     "evalue": "name 'F' is not defined",
     "output_type": "error",
     "traceback": [
      "\u001b[1;31m---------------------------------------------------------------------------\u001b[0m",
      "\u001b[1;31mNameError\u001b[0m                                 Traceback (most recent call last)",
      "Cell \u001b[1;32mIn[14], line 1\u001b[0m\n\u001b[1;32m----> 1\u001b[0m \u001b[38;5;28;01massert\u001b[39;00m \u001b[43mF\u001b[49m\u001b[38;5;241m.\u001b[39mshape \u001b[38;5;241m==\u001b[39m Fx\u001b[38;5;241m.\u001b[39mshape \u001b[38;5;241m==\u001b[39m Fy\u001b[38;5;241m.\u001b[39mshape \u001b[38;5;241m==\u001b[39m (\u001b[38;5;241m101\u001b[39m, \u001b[38;5;241m101\u001b[39m)\n\u001b[0;32m      3\u001b[0m \u001b[38;5;28;01massert\u001b[39;00m np\u001b[38;5;241m.\u001b[39misclose(F[\u001b[38;5;241m10\u001b[39m, \u001b[38;5;241m20\u001b[39m], \u001b[38;5;241m1.2058192410423678\u001b[39m)\n\u001b[0;32m      4\u001b[0m \u001b[38;5;28;01massert\u001b[39;00m np\u001b[38;5;241m.\u001b[39misclose(Fx[\u001b[38;5;241m10\u001b[39m, \u001b[38;5;241m20\u001b[39m], \u001b[38;5;241m0.15249611076945777\u001b[39m)\n",
      "\u001b[1;31mNameError\u001b[0m: name 'F' is not defined"
     ]
    }
   ],
   "source": [
    "assert F.shape == Fx.shape == Fy.shape == (101, 101)\n",
    "\n",
    "assert np.isclose(F[10, 20], 1.2058192410423678)\n",
    "assert np.isclose(Fx[10, 20], 0.15249611076945777)\n",
    "assert np.isclose(Fy[10, 20], -0.2390265731793245)"
   ]
  },
  {
   "cell_type": "code",
   "execution_count": 15,
   "id": "illegal-chess",
   "metadata": {},
   "outputs": [
    {
     "ename": "NameError",
     "evalue": "name 'Fx' is not defined",
     "output_type": "error",
     "traceback": [
      "\u001b[1;31m---------------------------------------------------------------------------\u001b[0m",
      "\u001b[1;31mNameError\u001b[0m                                 Traceback (most recent call last)",
      "Cell \u001b[1;32mIn[15], line 5\u001b[0m\n\u001b[0;32m      3\u001b[0m XX \u001b[38;5;241m=\u001b[39m X[::\u001b[38;5;241m5\u001b[39m, ::\u001b[38;5;241m5\u001b[39m]\n\u001b[0;32m      4\u001b[0m YY \u001b[38;5;241m=\u001b[39m Y[::\u001b[38;5;241m5\u001b[39m, ::\u001b[38;5;241m5\u001b[39m]\n\u001b[1;32m----> 5\u001b[0m FFx \u001b[38;5;241m=\u001b[39m \u001b[43mFx\u001b[49m[::\u001b[38;5;241m5\u001b[39m, ::\u001b[38;5;241m5\u001b[39m]\n\u001b[0;32m      6\u001b[0m FFy \u001b[38;5;241m=\u001b[39m Fy[::\u001b[38;5;241m5\u001b[39m, ::\u001b[38;5;241m5\u001b[39m]\n\u001b[0;32m      7\u001b[0m plt\u001b[38;5;241m.\u001b[39mimshow(F, extent\u001b[38;5;241m=\u001b[39m(\u001b[38;5;241m-\u001b[39m\u001b[38;5;241m50\u001b[39m, \u001b[38;5;241m50\u001b[39m, \u001b[38;5;241m50\u001b[39m, \u001b[38;5;241m-\u001b[39m\u001b[38;5;241m50\u001b[39m), origin\u001b[38;5;241m=\u001b[39m\u001b[38;5;124m'\u001b[39m\u001b[38;5;124mupper\u001b[39m\u001b[38;5;124m'\u001b[39m)\n",
      "\u001b[1;31mNameError\u001b[0m: name 'Fx' is not defined"
     ]
    }
   ],
   "source": [
    "xx = x[::5]\n",
    "yy = y[::5]\n",
    "XX = X[::5, ::5]\n",
    "YY = Y[::5, ::5]\n",
    "FFx = Fx[::5, ::5]\n",
    "FFy = Fy[::5, ::5]\n",
    "plt.imshow(F, extent=(-50, 50, 50, -50), origin='upper')\n",
    "plt.quiver( xx, yy, FFx, FFy, color='red', angles='xy' );"
   ]
  },
  {
   "cell_type": "markdown",
   "id": "terminal-duration",
   "metadata": {},
   "source": [
    "Note that gradient vectors, originating from the sparser grid points defined by ``XX`` and ``YY``, should ideally point towards the maximum increase in function value—namely, towards the centers of bright white spots.\n"
   ]
  },
  {
   "cell_type": "markdown",
   "id": "requested-guatemala",
   "metadata": {},
   "source": [
    "## Exercise 5: Finite Difference Derivatives\n",
    "\n",
    "Consider the function $f$ in two variables:\n",
    "\n",
    "\\begin{align}\n",
    "f(x,y) = 3(1-x)^2 \\exp\\left(-x^2 - (y-1)^2\\right)\n",
    " - 10\\left(\\frac{x}{5} - x^3 - y^5\\right) \\exp\\left(-x^2 - y^2\\right) \n",
    " - \\frac{1}{3} \\exp\\left(-(x+1)^2 - y^2\\right)\n",
    " \\end{align}\n",
    " \n",
    "In the cell below you should approximate the partial derivatives (call the variables ``Fxml`` and ``Fyml``) using finite difference convolutions"
   ]
  },
  {
   "cell_type": "code",
   "execution_count": 17,
   "id": "muslim-green",
   "metadata": {},
   "outputs": [],
   "source": [
    "import scipy.ndimage # Contains the convolve function.\n",
    "\n",
    "def finite_difference_derivatives(Xml, Yml):\n",
    "    \"\"\"\n",
    "    Given a grid Xml, Yml (in the output format of np.meshgrid), compute (using finite difference convolutions):\n",
    "    \n",
    "    Fml (given): the value of the function f on the grid.\n",
    "    Fxml: the deriviative in the x direction.\n",
    "    Fyml: the derivative in the y direction.\n",
    "    \n",
    "    Return Fml, Fxml, Fyml.\n",
    "    \"\"\"\n",
    "    Fml = 3 * (1-Xml)**2 * np.exp(-(Xml**2) - (Yml+1)**2) \\\n",
    "        - 10 * (Xml/5 - Xml**3 - Yml**5) * np.exp(-Xml**2 - Yml**2) \\\n",
    "        - 1/3 * np.exp(-(Xml+1)**2 - Yml**2) \n",
    "\n",
    "    ### YOUR CODE HERE\n",
    "    raise NotImplementedError\n"
   ]
  },
  {
   "cell_type": "markdown",
   "id": "universal-frost",
   "metadata": {},
   "source": [
    "Test your implemantation using the following code."
   ]
  },
  {
   "cell_type": "code",
   "execution_count": 19,
   "id": "interim-kingston",
   "metadata": {},
   "outputs": [
    {
     "ename": "NotImplementedError",
     "evalue": "",
     "output_type": "error",
     "traceback": [
      "\u001b[1;31m---------------------------------------------------------------------------\u001b[0m",
      "\u001b[1;31mNotImplementedError\u001b[0m                       Traceback (most recent call last)",
      "Cell \u001b[1;32mIn[19], line 4\u001b[0m\n\u001b[0;32m      2\u001b[0m yml \u001b[38;5;241m=\u001b[39m np\u001b[38;5;241m.\u001b[39mlinspace(\u001b[38;5;241m-\u001b[39m\u001b[38;5;241m3\u001b[39m, \u001b[38;5;241m3\u001b[39m, \u001b[38;5;241m150\u001b[39m)\n\u001b[0;32m      3\u001b[0m Xml, Yml \u001b[38;5;241m=\u001b[39m np\u001b[38;5;241m.\u001b[39mmeshgrid(xml, yml)\n\u001b[1;32m----> 4\u001b[0m Fml, Fxml, Fyml \u001b[38;5;241m=\u001b[39m \u001b[43mfinite_difference_derivatives\u001b[49m\u001b[43m(\u001b[49m\u001b[43mXml\u001b[49m\u001b[43m,\u001b[49m\u001b[43m \u001b[49m\u001b[43mYml\u001b[49m\u001b[43m)\u001b[49m\n\u001b[0;32m      6\u001b[0m imshow_row([(Fxml, \u001b[38;5;124mr\u001b[39m\u001b[38;5;124m\"\u001b[39m\u001b[38;5;124m$f_x$\u001b[39m\u001b[38;5;124m\"\u001b[39m), (Fyml, \u001b[38;5;124mr\u001b[39m\u001b[38;5;124m\"\u001b[39m\u001b[38;5;124m$f_y$\u001b[39m\u001b[38;5;124m\"\u001b[39m)])\n\u001b[0;32m      8\u001b[0m \u001b[38;5;28;01massert\u001b[39;00m Fxml\u001b[38;5;241m.\u001b[39mshape \u001b[38;5;241m==\u001b[39m Fyml\u001b[38;5;241m.\u001b[39mshape \u001b[38;5;241m==\u001b[39m (\u001b[38;5;241m150\u001b[39m, \u001b[38;5;241m150\u001b[39m)\n",
      "Cell \u001b[1;32mIn[17], line 18\u001b[0m, in \u001b[0;36mfinite_difference_derivatives\u001b[1;34m(Xml, Yml)\u001b[0m\n\u001b[0;32m     13\u001b[0m Fml \u001b[38;5;241m=\u001b[39m \u001b[38;5;241m3\u001b[39m \u001b[38;5;241m*\u001b[39m (\u001b[38;5;241m1\u001b[39m\u001b[38;5;241m-\u001b[39mXml)\u001b[38;5;241m*\u001b[39m\u001b[38;5;241m*\u001b[39m\u001b[38;5;241m2\u001b[39m \u001b[38;5;241m*\u001b[39m np\u001b[38;5;241m.\u001b[39mexp(\u001b[38;5;241m-\u001b[39m(Xml\u001b[38;5;241m*\u001b[39m\u001b[38;5;241m*\u001b[39m\u001b[38;5;241m2\u001b[39m) \u001b[38;5;241m-\u001b[39m (Yml\u001b[38;5;241m+\u001b[39m\u001b[38;5;241m1\u001b[39m)\u001b[38;5;241m*\u001b[39m\u001b[38;5;241m*\u001b[39m\u001b[38;5;241m2\u001b[39m) \\\n\u001b[0;32m     14\u001b[0m     \u001b[38;5;241m-\u001b[39m \u001b[38;5;241m10\u001b[39m \u001b[38;5;241m*\u001b[39m (Xml\u001b[38;5;241m/\u001b[39m\u001b[38;5;241m5\u001b[39m \u001b[38;5;241m-\u001b[39m Xml\u001b[38;5;241m*\u001b[39m\u001b[38;5;241m*\u001b[39m\u001b[38;5;241m3\u001b[39m \u001b[38;5;241m-\u001b[39m Yml\u001b[38;5;241m*\u001b[39m\u001b[38;5;241m*\u001b[39m\u001b[38;5;241m5\u001b[39m) \u001b[38;5;241m*\u001b[39m np\u001b[38;5;241m.\u001b[39mexp(\u001b[38;5;241m-\u001b[39mXml\u001b[38;5;241m*\u001b[39m\u001b[38;5;241m*\u001b[39m\u001b[38;5;241m2\u001b[39m \u001b[38;5;241m-\u001b[39m Yml\u001b[38;5;241m*\u001b[39m\u001b[38;5;241m*\u001b[39m\u001b[38;5;241m2\u001b[39m) \\\n\u001b[0;32m     15\u001b[0m     \u001b[38;5;241m-\u001b[39m \u001b[38;5;241m1\u001b[39m\u001b[38;5;241m/\u001b[39m\u001b[38;5;241m3\u001b[39m \u001b[38;5;241m*\u001b[39m np\u001b[38;5;241m.\u001b[39mexp(\u001b[38;5;241m-\u001b[39m(Xml\u001b[38;5;241m+\u001b[39m\u001b[38;5;241m1\u001b[39m)\u001b[38;5;241m*\u001b[39m\u001b[38;5;241m*\u001b[39m\u001b[38;5;241m2\u001b[39m \u001b[38;5;241m-\u001b[39m Yml\u001b[38;5;241m*\u001b[39m\u001b[38;5;241m*\u001b[39m\u001b[38;5;241m2\u001b[39m) \n\u001b[0;32m     17\u001b[0m \u001b[38;5;66;03m### YOUR CODE HERE\u001b[39;00m\n\u001b[1;32m---> 18\u001b[0m \u001b[38;5;28;01mraise\u001b[39;00m \u001b[38;5;167;01mNotImplementedError\u001b[39;00m\n",
      "\u001b[1;31mNotImplementedError\u001b[0m: "
     ]
    }
   ],
   "source": [
    "xml = np.linspace(-3, 3, 150)\n",
    "yml = np.linspace(-3, 3, 150)\n",
    "Xml, Yml = np.meshgrid(xml, yml)\n",
    "Fml, Fxml, Fyml = finite_difference_derivatives(Xml, Yml)\n",
    "\n",
    "imshow_row([(Fxml, r\"$f_x$\"), (Fyml, r\"$f_y$\")])\n",
    "\n",
    "assert Fxml.shape == Fyml.shape == (150, 150)\n",
    "assert np.isclose(Fxml[50, 60], -0.04245716117236498)\n",
    "assert np.isclose(Fyml[50, 60], 0.29461883737214256)"
   ]
  },
  {
   "cell_type": "markdown",
   "id": "twenty-tower",
   "metadata": {},
   "source": [
    "The code below then should plot the gradient vectors in a sparse grid overlayed on top of the image ``Fml``."
   ]
  },
  {
   "cell_type": "code",
   "execution_count": 20,
   "id": "agricultural-grove",
   "metadata": {},
   "outputs": [
    {
     "ename": "NameError",
     "evalue": "name 'Fxml' is not defined",
     "output_type": "error",
     "traceback": [
      "\u001b[1;31m---------------------------------------------------------------------------\u001b[0m",
      "\u001b[1;31mNameError\u001b[0m                                 Traceback (most recent call last)",
      "Cell \u001b[1;32mIn[20], line 5\u001b[0m\n\u001b[0;32m      3\u001b[0m XXml \u001b[38;5;241m=\u001b[39m Xml[::\u001b[38;5;241m5\u001b[39m, ::\u001b[38;5;241m5\u001b[39m]\n\u001b[0;32m      4\u001b[0m YYml \u001b[38;5;241m=\u001b[39m Yml[::\u001b[38;5;241m5\u001b[39m, ::\u001b[38;5;241m5\u001b[39m]\n\u001b[1;32m----> 5\u001b[0m FFxml \u001b[38;5;241m=\u001b[39m \u001b[43mFxml\u001b[49m[::\u001b[38;5;241m5\u001b[39m, ::\u001b[38;5;241m5\u001b[39m]\n\u001b[0;32m      6\u001b[0m FFyml \u001b[38;5;241m=\u001b[39m Fyml[::\u001b[38;5;241m5\u001b[39m, ::\u001b[38;5;241m5\u001b[39m]\n\u001b[0;32m      7\u001b[0m plt\u001b[38;5;241m.\u001b[39mimshow(Fml, extent\u001b[38;5;241m=\u001b[39m(\u001b[38;5;241m-\u001b[39m\u001b[38;5;241m3\u001b[39m, \u001b[38;5;241m3\u001b[39m, \u001b[38;5;241m3\u001b[39m, \u001b[38;5;241m-\u001b[39m\u001b[38;5;241m3\u001b[39m), origin\u001b[38;5;241m=\u001b[39m\u001b[38;5;124m'\u001b[39m\u001b[38;5;124mupper\u001b[39m\u001b[38;5;124m'\u001b[39m)\n",
      "\u001b[1;31mNameError\u001b[0m: name 'Fxml' is not defined"
     ]
    }
   ],
   "source": [
    "xxml = xml[::5]\n",
    "yyml = yml[::5]\n",
    "XXml = Xml[::5, ::5]\n",
    "YYml = Yml[::5, ::5]\n",
    "FFxml = Fxml[::5, ::5]\n",
    "FFyml = Fyml[::5, ::5]\n",
    "plt.imshow(Fml, extent=(-3, 3, 3, -3), origin='upper')\n",
    "plt.quiver(xxml, yyml, FFxml, FFyml, color='red', angles='xy');"
   ]
  },
  {
   "cell_type": "markdown",
   "id": "following-laundry",
   "metadata": {},
   "source": [
    "## Exercise 6: Gaussian 2D function\n",
    "\n",
    "The 2D Gaussian function $G^s(x,y)$ is defined as:\n",
    "\\begin{align}\n",
    "G^s(x,y) = \\frac{1}{s\\sqrt{2\\pi}} e^{-\\frac{x^2+y^2}{2 s^2}}\n",
    "\\end{align}\n",
    "\n",
    "The function ``Gauss2d(scale, factor)`` should a return a tuple ``(X, Y, G)`` where ``X, Y`` are the 2D grid arrays generated with the ``np.meshgrid`` function and ``G`` is the sampled Gaussian function.\n",
    "\n",
    "The Gauss kernel should be **normalized** in such a way that at each point in the image it calculates a weighted average of its neighbor points."
   ]
  },
  {
   "cell_type": "code",
   "execution_count": 21,
   "id": "interior-prediction",
   "metadata": {},
   "outputs": [],
   "source": [
    "def Gauss2d(scale, factor):\n",
    "    # If we take N = ceil(scale*factor), then a 2N+1 x 2N + 1 filter is a good size for the grid.\n",
    "    N = np.ceil(scale * factor).astype(int)\n",
    "    \n",
    "    ### YOUR CODE HERE\n",
    "    raise NotImplementedError\n"
   ]
  },
  {
   "cell_type": "markdown",
   "id": "random-mainstream",
   "metadata": {},
   "source": [
    "Test your implemantation using the following code."
   ]
  },
  {
   "cell_type": "code",
   "execution_count": 22,
   "id": "verified-fundamental",
   "metadata": {},
   "outputs": [
    {
     "ename": "TypeError",
     "evalue": "cannot unpack non-iterable NoneType object",
     "output_type": "error",
     "traceback": [
      "\u001b[1;31m---------------------------------------------------------------------------\u001b[0m",
      "\u001b[1;31mTypeError\u001b[0m                                 Traceback (most recent call last)",
      "Cell \u001b[1;32mIn[22], line 1\u001b[0m\n\u001b[1;32m----> 1\u001b[0m X, Y, G \u001b[38;5;241m=\u001b[39m Gauss2d(\u001b[38;5;241m3.7\u001b[39m, \u001b[38;5;241m1.4\u001b[39m)\n\u001b[0;32m      2\u001b[0m fig \u001b[38;5;241m=\u001b[39m plt\u001b[38;5;241m.\u001b[39mfigure(\u001b[38;5;241m99\u001b[39m)\n\u001b[0;32m      3\u001b[0m ax1 \u001b[38;5;241m=\u001b[39m fig\u001b[38;5;241m.\u001b[39madd_subplot(\u001b[38;5;241m121\u001b[39m)\n",
      "\u001b[1;31mTypeError\u001b[0m: cannot unpack non-iterable NoneType object"
     ]
    }
   ],
   "source": [
    "X, Y, G = Gauss2d(3.7, 1.4)\n",
    "fig = plt.figure(99)\n",
    "ax1 = fig.add_subplot(121)\n",
    "ax1.imshow(G);\n",
    "ax2 = fig.add_subplot(122, projection='3d')\n",
    "plot_stems3d(ax2, X, Y, G)"
   ]
  },
  {
   "cell_type": "code",
   "execution_count": 23,
   "id": "swedish-nation",
   "metadata": {},
   "outputs": [
    {
     "ename": "TypeError",
     "evalue": "cannot unpack non-iterable NoneType object",
     "output_type": "error",
     "traceback": [
      "\u001b[1;31m---------------------------------------------------------------------------\u001b[0m",
      "\u001b[1;31mTypeError\u001b[0m                                 Traceback (most recent call last)",
      "Cell \u001b[1;32mIn[23], line 1\u001b[0m\n\u001b[1;32m----> 1\u001b[0m X, Y, G \u001b[38;5;241m=\u001b[39m Gauss2d(\u001b[38;5;241m3.7\u001b[39m, \u001b[38;5;241m1.4\u001b[39m)\n\u001b[0;32m      2\u001b[0m \u001b[38;5;28;01massert\u001b[39;00m X\u001b[38;5;241m.\u001b[39mshape \u001b[38;5;241m==\u001b[39m Y\u001b[38;5;241m.\u001b[39mshape \u001b[38;5;241m==\u001b[39m G\u001b[38;5;241m.\u001b[39mshape \u001b[38;5;241m==\u001b[39m (\u001b[38;5;241m13\u001b[39m, \u001b[38;5;241m13\u001b[39m)\n\u001b[0;32m      3\u001b[0m \u001b[38;5;28;01massert\u001b[39;00m np\u001b[38;5;241m.\u001b[39misclose(np\u001b[38;5;241m.\u001b[39msum(G), \u001b[38;5;241m1\u001b[39m)\n",
      "\u001b[1;31mTypeError\u001b[0m: cannot unpack non-iterable NoneType object"
     ]
    }
   ],
   "source": [
    "X, Y, G = Gauss2d(3.7, 1.4)\n",
    "assert X.shape == Y.shape == G.shape == (13, 13)\n",
    "assert np.isclose(np.sum(G), 1)\n",
    "assert X[1,4] == -2\n",
    "assert Y[1,4] == -5\n",
    "assert np.isclose(G[1,4], 0.004742521299253816)"
   ]
  },
  {
   "cell_type": "markdown",
   "id": "distributed-opera",
   "metadata": {},
   "source": [
    "## Exercise 7: 1D Gaussian function\n",
    "\n",
    "Using the calculated partial derivatives, now write the code for the ``Gauss1D`` function (and your derivatives will be tested then). The function should return a tuple ``(X, G)``, where ``X`` is a 1D grid array, and ``G`` represents the sampled Gaussian function. Ensure the Gaussian kernel is **normalized** to compute a weighted average of neighboring points in the image."
   ]
  },
  {
   "cell_type": "code",
   "execution_count": 24,
   "id": "protecting-inspector",
   "metadata": {},
   "outputs": [],
   "source": [
    "def Gauss1d(scale, order=0, factor=3):\n",
    "    \"\"\"If order=0, this function should give a normalized sample of the 1d Gaussian function, \n",
    "    similar to the Gauss2d function above. If order=1 or order=2, this function should give an \n",
    "    approximation for the first respectively second derivative by multiplying this sample by the\n",
    "    appropriate analytically determined polynomial (see guide notebook).\"\"\"\n",
    "\n",
    "    ### YOUR CODE HERE\n",
    "    raise NotImplementedError\n"
   ]
  },
  {
   "cell_type": "markdown",
   "id": "excessive-consequence",
   "metadata": {},
   "source": [
    "Test your implemantation using the following code."
   ]
  },
  {
   "cell_type": "code",
   "execution_count": 25,
   "id": "annoying-shell",
   "metadata": {},
   "outputs": [
    {
     "ename": "TypeError",
     "evalue": "cannot unpack non-iterable NoneType object",
     "output_type": "error",
     "traceback": [
      "\u001b[1;31m---------------------------------------------------------------------------\u001b[0m",
      "\u001b[1;31mTypeError\u001b[0m                                 Traceback (most recent call last)",
      "Cell \u001b[1;32mIn[25], line 1\u001b[0m\n\u001b[1;32m----> 1\u001b[0m x0, G0 \u001b[38;5;241m=\u001b[39m Gauss1d(\u001b[38;5;241m1.5\u001b[39m, \u001b[38;5;241m0\u001b[39m, \u001b[38;5;241m5\u001b[39m)\n\u001b[0;32m      2\u001b[0m x1, G1 \u001b[38;5;241m=\u001b[39m Gauss1d(\u001b[38;5;241m1.5\u001b[39m, \u001b[38;5;241m1\u001b[39m, \u001b[38;5;241m5\u001b[39m)\n\u001b[0;32m      3\u001b[0m x2, G2 \u001b[38;5;241m=\u001b[39m Gauss1d(\u001b[38;5;241m1.5\u001b[39m, \u001b[38;5;241m2\u001b[39m, \u001b[38;5;241m5\u001b[39m)\n",
      "\u001b[1;31mTypeError\u001b[0m: cannot unpack non-iterable NoneType object"
     ]
    }
   ],
   "source": [
    "x0, G0 = Gauss1d(1.5, 0, 5)\n",
    "x1, G1 = Gauss1d(1.5, 1, 5)\n",
    "x2, G2 = Gauss1d(1.5, 2, 5)\n",
    "assert x0.shape == G0.shape == (17,)\n",
    "assert (x0 == x1).all() and (x1 == x2).all()\n",
    "assert np.isclose(np.sum(G0), 1)\n",
    "assert np.isclose(G0[4], 0.0075973240783234215)\n",
    "assert np.isclose(G1[4], 0.013506353917019416)\n",
    "assert np.isclose(G2[4], 0.020634707373224107)"
   ]
  },
  {
   "cell_type": "code",
   "execution_count": 26,
   "id": "future-invasion",
   "metadata": {},
   "outputs": [
    {
     "ename": "TypeError",
     "evalue": "cannot unpack non-iterable NoneType object",
     "output_type": "error",
     "traceback": [
      "\u001b[1;31m---------------------------------------------------------------------------\u001b[0m",
      "\u001b[1;31mTypeError\u001b[0m                                 Traceback (most recent call last)",
      "Cell \u001b[1;32mIn[26], line 3\u001b[0m\n\u001b[0;32m      1\u001b[0m s \u001b[38;5;241m=\u001b[39m \u001b[38;5;241m1.5\u001b[39m\n\u001b[0;32m      2\u001b[0m factor \u001b[38;5;241m=\u001b[39m \u001b[38;5;241m5\u001b[39m\n\u001b[1;32m----> 3\u001b[0m x, G3 \u001b[38;5;241m=\u001b[39m Gauss1d(s, order\u001b[38;5;241m=\u001b[39m\u001b[38;5;241m0\u001b[39m, factor\u001b[38;5;241m=\u001b[39mfactor)\n\u001b[0;32m      4\u001b[0m plt\u001b[38;5;241m.\u001b[39mplot(x, G3, \u001b[38;5;124m'\u001b[39m\u001b[38;5;124m.-\u001b[39m\u001b[38;5;124m'\u001b[39m)\n\u001b[0;32m      5\u001b[0m x, G3x \u001b[38;5;241m=\u001b[39m Gauss1d(s, order\u001b[38;5;241m=\u001b[39m\u001b[38;5;241m1\u001b[39m, factor\u001b[38;5;241m=\u001b[39mfactor)\n",
      "\u001b[1;31mTypeError\u001b[0m: cannot unpack non-iterable NoneType object"
     ]
    }
   ],
   "source": [
    "s = 1.5\n",
    "factor = 5\n",
    "x, G3 = Gauss1d(s, order=0, factor=factor)\n",
    "plt.plot(x, G3, '.-')\n",
    "x, G3x = Gauss1d(s, order=1, factor=factor)\n",
    "x, G3xx = Gauss1d(s, order=2, factor=factor)\n",
    "plt.axhline() # the x-axis\n",
    "plt.plot(x, G3x, '.-');\n",
    "plt.plot(x, G3xx, '.-');"
   ]
  },
  {
   "cell_type": "markdown",
   "id": "juvenile-lesbian",
   "metadata": {},
   "source": [
    "## Exercise 8: Gaussian (Derivative) Convolution\n",
    "\n",
    "Use the function ``Gauss1d`` and ``convolve1d`` to implement the ``gD`` function:"
   ]
  },
  {
   "cell_type": "code",
   "execution_count": 27,
   "id": "future-bristol",
   "metadata": {},
   "outputs": [],
   "source": [
    "from scipy.ndimage import convolve1d\n",
    "\n",
    "def gD(f, scales, orders, factor=3, mode='nearest', cval=0):\n",
    "    \"\"\" \n",
    "    f: the function to convolve\n",
    "    scales: the scales in the x and y direction, respectively\n",
    "    orders: the orders of the derivatives (0 <= order <= 2)\n",
    "    factor: the factor with which you compute the scale to get the size of the domain.\n",
    "    mode, cval: the border mode to use in the convolution, and the constant value in case the mode is `constant`.\n",
    "    \n",
    "    returns: the convolution of f with the appropriate Gaussian derivative.\n",
    "    \"\"\"\n",
    "    \n",
    "    ### YOUR CODE HERE\n",
    "    raise NotImplementedError"
   ]
  },
  {
   "cell_type": "markdown",
   "id": "ready-chocolate",
   "metadata": {},
   "source": [
    "Test your implemantation using the following code."
   ]
  },
  {
   "cell_type": "code",
   "execution_count": 28,
   "id": "typical-consortium",
   "metadata": {},
   "outputs": [
    {
     "ename": "AttributeError",
     "evalue": "'NoneType' object has no attribute 'shape'",
     "output_type": "error",
     "traceback": [
      "\u001b[1;31m---------------------------------------------------------------------------\u001b[0m",
      "\u001b[1;31mAttributeError\u001b[0m                            Traceback (most recent call last)",
      "Cell \u001b[1;32mIn[28], line 13\u001b[0m\n\u001b[0;32m     11\u001b[0m F01 \u001b[38;5;241m=\u001b[39m gD(F, (\u001b[38;5;241m3.5\u001b[39m, \u001b[38;5;241m3.5\u001b[39m), (\u001b[38;5;241m0\u001b[39m, \u001b[38;5;241m1\u001b[39m), \u001b[38;5;241m3\u001b[39m)\n\u001b[0;32m     12\u001b[0m F21 \u001b[38;5;241m=\u001b[39m gD(F, (\u001b[38;5;241m2.5\u001b[39m, \u001b[38;5;241m2.5\u001b[39m), (\u001b[38;5;241m2\u001b[39m, \u001b[38;5;241m1\u001b[39m), \u001b[38;5;241m3\u001b[39m)\n\u001b[1;32m---> 13\u001b[0m \u001b[38;5;28;01massert\u001b[39;00m \u001b[43mF01\u001b[49m\u001b[38;5;241;43m.\u001b[39;49m\u001b[43mshape\u001b[49m \u001b[38;5;241m==\u001b[39m F21\u001b[38;5;241m.\u001b[39mshape \u001b[38;5;241m==\u001b[39m (\u001b[38;5;241m10\u001b[39m, \u001b[38;5;241m10\u001b[39m)\n\u001b[0;32m     14\u001b[0m \u001b[38;5;28;01massert\u001b[39;00m np\u001b[38;5;241m.\u001b[39misclose(F01[\u001b[38;5;241m4\u001b[39m, \u001b[38;5;241m5\u001b[39m], \u001b[38;5;241m-\u001b[39m\u001b[38;5;241m0.6600031308571785\u001b[39m)\n\u001b[0;32m     15\u001b[0m \u001b[38;5;28;01massert\u001b[39;00m np\u001b[38;5;241m.\u001b[39misclose(F21[\u001b[38;5;241m6\u001b[39m, \u001b[38;5;241m3\u001b[39m], \u001b[38;5;241m-\u001b[39m\u001b[38;5;241m0.1254832128531149\u001b[39m)\n",
      "\u001b[1;31mAttributeError\u001b[0m: 'NoneType' object has no attribute 'shape'"
     ]
    }
   ],
   "source": [
    "F = np.array([[65, 13, 15, 18, 69, 39, 38, 19, 61,  5],\n",
    "       [55, 35, 12, 96, 95, 98, 80,  2, 86, 22],\n",
    "       [41, 39, 91, 33, 68, 52, 18, 46, 82, 16],\n",
    "       [96, 48, 57, 28, 79, 10, 84, 18, 46, 92],\n",
    "       [41, 70, 32, 59, 15, 48, 58, 96, 88, 99],\n",
    "       [78, 48, 26, 68, 56, 97, 79, 19, 55, 59],\n",
    "       [80,  6, 54, 93, 10, 28, 10, 69, 25, 27],\n",
    "       [44, 33, 25, 73, 92, 41, 15, 23, 78,  9],\n",
    "       [ 3, 48,  0, 69,  6, 82, 33, 59, 22, 28],\n",
    "       [66, 94, 18, 17, 13, 73, 16, 18, 25, 64]]).astype(np.float64)\n",
    "F01 = gD(F, (3.5, 3.5), (0, 1), 3)\n",
    "F21 = gD(F, (2.5, 2.5), (2, 1), 3)\n",
    "assert F01.shape == F21.shape == (10, 10)\n",
    "assert np.isclose(F01[4, 5], -0.6600031308571785)\n",
    "assert np.isclose(F21[6, 3], -0.1254832128531149)"
   ]
  },
  {
   "cell_type": "code",
   "execution_count": 29,
   "id": "interesting-feature",
   "metadata": {},
   "outputs": [
    {
     "ename": "TypeError",
     "evalue": "Image data of dtype object cannot be converted to float",
     "output_type": "error",
     "traceback": [
      "\u001b[1;31m---------------------------------------------------------------------------\u001b[0m",
      "\u001b[1;31mTypeError\u001b[0m                                 Traceback (most recent call last)",
      "Cell \u001b[1;32mIn[29], line 5\u001b[0m\n\u001b[0;32m      3\u001b[0m I[\u001b[38;5;241m10\u001b[39m, \u001b[38;5;241m10\u001b[39m] \u001b[38;5;241m=\u001b[39m \u001b[38;5;241m1\u001b[39m\n\u001b[0;32m      4\u001b[0m G3 \u001b[38;5;241m=\u001b[39m gD(I, (\u001b[38;5;241m3\u001b[39m,\u001b[38;5;241m3\u001b[39m), (\u001b[38;5;241m0\u001b[39m,\u001b[38;5;241m0\u001b[39m), \u001b[38;5;241m3\u001b[39m)\n\u001b[1;32m----> 5\u001b[0m \u001b[43mimshow_row\u001b[49m\u001b[43m(\u001b[49m\u001b[43m[\u001b[49m\u001b[43m \u001b[49m\u001b[43m(\u001b[49m\u001b[43mG3\u001b[49m\u001b[43m,\u001b[49m\u001b[43m \u001b[49m\u001b[38;5;124;43mr\u001b[39;49m\u001b[38;5;124;43m\"\u001b[39;49m\u001b[38;5;124;43m$G^3$\u001b[39;49m\u001b[38;5;124;43m\"\u001b[39;49m\u001b[43m)\u001b[49m\u001b[43m,\u001b[49m\u001b[43m \u001b[49m\u001b[38;5;28;43;01mNone\u001b[39;49;00m\u001b[43m,\u001b[49m\u001b[43m \u001b[49m\u001b[38;5;28;43;01mNone\u001b[39;49;00m\u001b[43m]\u001b[49m\u001b[43m)\u001b[49m\n\u001b[0;32m      7\u001b[0m plt\u001b[38;5;241m.\u001b[39mfigure()\n\u001b[0;32m      8\u001b[0m Gx3 \u001b[38;5;241m=\u001b[39m gD(I, (\u001b[38;5;241m3\u001b[39m,\u001b[38;5;241m3\u001b[39m), (\u001b[38;5;241m0\u001b[39m,\u001b[38;5;241m1\u001b[39m), \u001b[38;5;241m3\u001b[39m)\n",
      "Cell \u001b[1;32mIn[3], line 17\u001b[0m, in \u001b[0;36mimshow_row\u001b[1;34m(imttllist, axs)\u001b[0m\n\u001b[0;32m     15\u001b[0m im, ttl \u001b[38;5;241m=\u001b[39m imttl\n\u001b[0;32m     16\u001b[0m plt\u001b[38;5;241m.\u001b[39msubplot(\u001b[38;5;241m1\u001b[39m,n,i\u001b[38;5;241m+\u001b[39m\u001b[38;5;241m1\u001b[39m)\n\u001b[1;32m---> 17\u001b[0m \u001b[43mplt\u001b[49m\u001b[38;5;241;43m.\u001b[39;49m\u001b[43mimshow\u001b[49m\u001b[43m(\u001b[49m\u001b[43mim\u001b[49m\u001b[43m,\u001b[49m\u001b[43m \u001b[49m\u001b[43mcmap\u001b[49m\u001b[38;5;241;43m=\u001b[39;49m\u001b[38;5;124;43m'\u001b[39;49m\u001b[38;5;124;43mgray\u001b[39;49m\u001b[38;5;124;43m'\u001b[39;49m\u001b[43m)\u001b[49m\n\u001b[0;32m     18\u001b[0m \u001b[38;5;28;01mif\u001b[39;00m \u001b[38;5;129;01mnot\u001b[39;00m axs:\n\u001b[0;32m     19\u001b[0m     plt\u001b[38;5;241m.\u001b[39maxis(\u001b[38;5;124m'\u001b[39m\u001b[38;5;124moff\u001b[39m\u001b[38;5;124m'\u001b[39m)\n",
      "File \u001b[1;32mc:\\Users\\nreints\\AppData\\Local\\anaconda3\\envs\\icv\\lib\\site-packages\\matplotlib\\pyplot.py:3358\u001b[0m, in \u001b[0;36mimshow\u001b[1;34m(X, cmap, norm, aspect, interpolation, alpha, vmin, vmax, origin, extent, interpolation_stage, filternorm, filterrad, resample, url, data, **kwargs)\u001b[0m\n\u001b[0;32m   3337\u001b[0m \u001b[38;5;129m@_copy_docstring_and_deprecators\u001b[39m(Axes\u001b[38;5;241m.\u001b[39mimshow)\n\u001b[0;32m   3338\u001b[0m \u001b[38;5;28;01mdef\u001b[39;00m \u001b[38;5;21mimshow\u001b[39m(\n\u001b[0;32m   3339\u001b[0m     X: ArrayLike \u001b[38;5;241m|\u001b[39m PIL\u001b[38;5;241m.\u001b[39mImage\u001b[38;5;241m.\u001b[39mImage,\n\u001b[1;32m   (...)\u001b[0m\n\u001b[0;32m   3356\u001b[0m     \u001b[38;5;241m*\u001b[39m\u001b[38;5;241m*\u001b[39mkwargs,\n\u001b[0;32m   3357\u001b[0m ) \u001b[38;5;241m-\u001b[39m\u001b[38;5;241m>\u001b[39m AxesImage:\n\u001b[1;32m-> 3358\u001b[0m     __ret \u001b[38;5;241m=\u001b[39m gca()\u001b[38;5;241m.\u001b[39mimshow(\n\u001b[0;32m   3359\u001b[0m         X,\n\u001b[0;32m   3360\u001b[0m         cmap\u001b[38;5;241m=\u001b[39mcmap,\n\u001b[0;32m   3361\u001b[0m         norm\u001b[38;5;241m=\u001b[39mnorm,\n\u001b[0;32m   3362\u001b[0m         aspect\u001b[38;5;241m=\u001b[39maspect,\n\u001b[0;32m   3363\u001b[0m         interpolation\u001b[38;5;241m=\u001b[39minterpolation,\n\u001b[0;32m   3364\u001b[0m         alpha\u001b[38;5;241m=\u001b[39malpha,\n\u001b[0;32m   3365\u001b[0m         vmin\u001b[38;5;241m=\u001b[39mvmin,\n\u001b[0;32m   3366\u001b[0m         vmax\u001b[38;5;241m=\u001b[39mvmax,\n\u001b[0;32m   3367\u001b[0m         origin\u001b[38;5;241m=\u001b[39morigin,\n\u001b[0;32m   3368\u001b[0m         extent\u001b[38;5;241m=\u001b[39mextent,\n\u001b[0;32m   3369\u001b[0m         interpolation_stage\u001b[38;5;241m=\u001b[39minterpolation_stage,\n\u001b[0;32m   3370\u001b[0m         filternorm\u001b[38;5;241m=\u001b[39mfilternorm,\n\u001b[0;32m   3371\u001b[0m         filterrad\u001b[38;5;241m=\u001b[39mfilterrad,\n\u001b[0;32m   3372\u001b[0m         resample\u001b[38;5;241m=\u001b[39mresample,\n\u001b[0;32m   3373\u001b[0m         url\u001b[38;5;241m=\u001b[39murl,\n\u001b[0;32m   3374\u001b[0m         \u001b[38;5;241m*\u001b[39m\u001b[38;5;241m*\u001b[39m({\u001b[38;5;124m\"\u001b[39m\u001b[38;5;124mdata\u001b[39m\u001b[38;5;124m\"\u001b[39m: data} \u001b[38;5;28;01mif\u001b[39;00m data \u001b[38;5;129;01mis\u001b[39;00m \u001b[38;5;129;01mnot\u001b[39;00m \u001b[38;5;28;01mNone\u001b[39;00m \u001b[38;5;28;01melse\u001b[39;00m {}),\n\u001b[0;32m   3375\u001b[0m         \u001b[38;5;241m*\u001b[39m\u001b[38;5;241m*\u001b[39mkwargs,\n\u001b[0;32m   3376\u001b[0m     )\n\u001b[0;32m   3377\u001b[0m     sci(__ret)\n\u001b[0;32m   3378\u001b[0m     \u001b[38;5;28;01mreturn\u001b[39;00m __ret\n",
      "File \u001b[1;32mc:\\Users\\nreints\\AppData\\Local\\anaconda3\\envs\\icv\\lib\\site-packages\\matplotlib\\__init__.py:1478\u001b[0m, in \u001b[0;36m_preprocess_data.<locals>.inner\u001b[1;34m(ax, data, *args, **kwargs)\u001b[0m\n\u001b[0;32m   1475\u001b[0m \u001b[38;5;129m@functools\u001b[39m\u001b[38;5;241m.\u001b[39mwraps(func)\n\u001b[0;32m   1476\u001b[0m \u001b[38;5;28;01mdef\u001b[39;00m \u001b[38;5;21minner\u001b[39m(ax, \u001b[38;5;241m*\u001b[39margs, data\u001b[38;5;241m=\u001b[39m\u001b[38;5;28;01mNone\u001b[39;00m, \u001b[38;5;241m*\u001b[39m\u001b[38;5;241m*\u001b[39mkwargs):\n\u001b[0;32m   1477\u001b[0m     \u001b[38;5;28;01mif\u001b[39;00m data \u001b[38;5;129;01mis\u001b[39;00m \u001b[38;5;28;01mNone\u001b[39;00m:\n\u001b[1;32m-> 1478\u001b[0m         \u001b[38;5;28;01mreturn\u001b[39;00m func(ax, \u001b[38;5;241m*\u001b[39m\u001b[38;5;28mmap\u001b[39m(sanitize_sequence, args), \u001b[38;5;241m*\u001b[39m\u001b[38;5;241m*\u001b[39mkwargs)\n\u001b[0;32m   1480\u001b[0m     bound \u001b[38;5;241m=\u001b[39m new_sig\u001b[38;5;241m.\u001b[39mbind(ax, \u001b[38;5;241m*\u001b[39margs, \u001b[38;5;241m*\u001b[39m\u001b[38;5;241m*\u001b[39mkwargs)\n\u001b[0;32m   1481\u001b[0m     auto_label \u001b[38;5;241m=\u001b[39m (bound\u001b[38;5;241m.\u001b[39marguments\u001b[38;5;241m.\u001b[39mget(label_namer)\n\u001b[0;32m   1482\u001b[0m                   \u001b[38;5;129;01mor\u001b[39;00m bound\u001b[38;5;241m.\u001b[39mkwargs\u001b[38;5;241m.\u001b[39mget(label_namer))\n",
      "File \u001b[1;32mc:\\Users\\nreints\\AppData\\Local\\anaconda3\\envs\\icv\\lib\\site-packages\\matplotlib\\axes\\_axes.py:5759\u001b[0m, in \u001b[0;36mAxes.imshow\u001b[1;34m(self, X, cmap, norm, aspect, interpolation, alpha, vmin, vmax, origin, extent, interpolation_stage, filternorm, filterrad, resample, url, **kwargs)\u001b[0m\n\u001b[0;32m   5756\u001b[0m \u001b[38;5;28;01mif\u001b[39;00m aspect \u001b[38;5;129;01mis\u001b[39;00m \u001b[38;5;129;01mnot\u001b[39;00m \u001b[38;5;28;01mNone\u001b[39;00m:\n\u001b[0;32m   5757\u001b[0m     \u001b[38;5;28mself\u001b[39m\u001b[38;5;241m.\u001b[39mset_aspect(aspect)\n\u001b[1;32m-> 5759\u001b[0m \u001b[43mim\u001b[49m\u001b[38;5;241;43m.\u001b[39;49m\u001b[43mset_data\u001b[49m\u001b[43m(\u001b[49m\u001b[43mX\u001b[49m\u001b[43m)\u001b[49m\n\u001b[0;32m   5760\u001b[0m im\u001b[38;5;241m.\u001b[39mset_alpha(alpha)\n\u001b[0;32m   5761\u001b[0m \u001b[38;5;28;01mif\u001b[39;00m im\u001b[38;5;241m.\u001b[39mget_clip_path() \u001b[38;5;129;01mis\u001b[39;00m \u001b[38;5;28;01mNone\u001b[39;00m:\n\u001b[0;32m   5762\u001b[0m     \u001b[38;5;66;03m# image does not already have clipping set, clip to axes patch\u001b[39;00m\n",
      "File \u001b[1;32mc:\\Users\\nreints\\AppData\\Local\\anaconda3\\envs\\icv\\lib\\site-packages\\matplotlib\\image.py:723\u001b[0m, in \u001b[0;36m_ImageBase.set_data\u001b[1;34m(self, A)\u001b[0m\n\u001b[0;32m    721\u001b[0m \u001b[38;5;28;01mif\u001b[39;00m \u001b[38;5;28misinstance\u001b[39m(A, PIL\u001b[38;5;241m.\u001b[39mImage\u001b[38;5;241m.\u001b[39mImage):\n\u001b[0;32m    722\u001b[0m     A \u001b[38;5;241m=\u001b[39m pil_to_array(A)  \u001b[38;5;66;03m# Needed e.g. to apply png palette.\u001b[39;00m\n\u001b[1;32m--> 723\u001b[0m \u001b[38;5;28mself\u001b[39m\u001b[38;5;241m.\u001b[39m_A \u001b[38;5;241m=\u001b[39m \u001b[38;5;28;43mself\u001b[39;49m\u001b[38;5;241;43m.\u001b[39;49m\u001b[43m_normalize_image_array\u001b[49m\u001b[43m(\u001b[49m\u001b[43mA\u001b[49m\u001b[43m)\u001b[49m\n\u001b[0;32m    724\u001b[0m \u001b[38;5;28mself\u001b[39m\u001b[38;5;241m.\u001b[39m_imcache \u001b[38;5;241m=\u001b[39m \u001b[38;5;28;01mNone\u001b[39;00m\n\u001b[0;32m    725\u001b[0m \u001b[38;5;28mself\u001b[39m\u001b[38;5;241m.\u001b[39mstale \u001b[38;5;241m=\u001b[39m \u001b[38;5;28;01mTrue\u001b[39;00m\n",
      "File \u001b[1;32mc:\\Users\\nreints\\AppData\\Local\\anaconda3\\envs\\icv\\lib\\site-packages\\matplotlib\\image.py:688\u001b[0m, in \u001b[0;36m_ImageBase._normalize_image_array\u001b[1;34m(A)\u001b[0m\n\u001b[0;32m    686\u001b[0m A \u001b[38;5;241m=\u001b[39m cbook\u001b[38;5;241m.\u001b[39msafe_masked_invalid(A, copy\u001b[38;5;241m=\u001b[39m\u001b[38;5;28;01mTrue\u001b[39;00m)\n\u001b[0;32m    687\u001b[0m \u001b[38;5;28;01mif\u001b[39;00m A\u001b[38;5;241m.\u001b[39mdtype \u001b[38;5;241m!=\u001b[39m np\u001b[38;5;241m.\u001b[39muint8 \u001b[38;5;129;01mand\u001b[39;00m \u001b[38;5;129;01mnot\u001b[39;00m np\u001b[38;5;241m.\u001b[39mcan_cast(A\u001b[38;5;241m.\u001b[39mdtype, \u001b[38;5;28mfloat\u001b[39m, \u001b[38;5;124m\"\u001b[39m\u001b[38;5;124msame_kind\u001b[39m\u001b[38;5;124m\"\u001b[39m):\n\u001b[1;32m--> 688\u001b[0m     \u001b[38;5;28;01mraise\u001b[39;00m \u001b[38;5;167;01mTypeError\u001b[39;00m(\u001b[38;5;124mf\u001b[39m\u001b[38;5;124m\"\u001b[39m\u001b[38;5;124mImage data of dtype \u001b[39m\u001b[38;5;132;01m{\u001b[39;00mA\u001b[38;5;241m.\u001b[39mdtype\u001b[38;5;132;01m}\u001b[39;00m\u001b[38;5;124m cannot be \u001b[39m\u001b[38;5;124m\"\u001b[39m\n\u001b[0;32m    689\u001b[0m                     \u001b[38;5;124mf\u001b[39m\u001b[38;5;124m\"\u001b[39m\u001b[38;5;124mconverted to float\u001b[39m\u001b[38;5;124m\"\u001b[39m)\n\u001b[0;32m    690\u001b[0m \u001b[38;5;28;01mif\u001b[39;00m A\u001b[38;5;241m.\u001b[39mndim \u001b[38;5;241m==\u001b[39m \u001b[38;5;241m3\u001b[39m \u001b[38;5;129;01mand\u001b[39;00m A\u001b[38;5;241m.\u001b[39mshape[\u001b[38;5;241m-\u001b[39m\u001b[38;5;241m1\u001b[39m] \u001b[38;5;241m==\u001b[39m \u001b[38;5;241m1\u001b[39m:\n\u001b[0;32m    691\u001b[0m     A \u001b[38;5;241m=\u001b[39m A\u001b[38;5;241m.\u001b[39msqueeze(\u001b[38;5;241m-\u001b[39m\u001b[38;5;241m1\u001b[39m)  \u001b[38;5;66;03m# If just (M, N, 1), assume scalar and apply colormap.\u001b[39;00m\n",
      "\u001b[1;31mTypeError\u001b[0m: Image data of dtype object cannot be converted to float"
     ]
    },
    {
     "data": {
      "image/png": "[encoded data removed]",
      "text/plain": [
       "<Figure size 640x480 with 1 Axes>"
      ]
     },
     "metadata": {},
     "output_type": "display_data"
    }
   ],
   "source": [
    "# Show the derivatives by convolving with an impulse.\n",
    "I = np.zeros((21,21))\n",
    "I[10, 10] = 1\n",
    "G3 = gD(I, (3,3), (0,0), 3)\n",
    "imshow_row([ (G3, r\"$G^3$\"), None, None])\n",
    "\n",
    "plt.figure()\n",
    "Gx3 = gD(I, (3,3), (0,1), 3)\n",
    "Gy3 = gD(I, (3,3), (1,0), 3)\n",
    "imshow_row([ (Gx3, r\"$G^3_x$\"), (Gy3, r\"$G^3_y$\"), None])\n",
    "\n",
    "plt.figure()\n",
    "Gxx3 = gD(I, (3,3), (0,2), 3)\n",
    "Gxy3 = gD(I, (3,3), (1,1), 3)\n",
    "Gyy3 = gD(I, (3,3), (2,0), 3)\n",
    "imshow_row([ (Gxx3, r\"$G^3_{xx}$\"), \n",
    "             (Gxy3, r\"$G^3_{xy}$\"),\n",
    "             (Gyy3, r\"$G^3_{yy}$\")])\n"
   ]
  },
  {
   "cell_type": "code",
   "execution_count": null,
   "id": "subject-requirement",
   "metadata": {},
   "outputs": [],
   "source": [
    "s = 1\n",
    "fs = gD(Fcam, (s,s), (0,0), 3)\n",
    "imshow_row([ (fs, r\"$f\\ast G^{%5.2f}$\" % s), None, None])\n",
    "\n",
    "plt.figure()\n",
    "fxs = gD(Fcam, (s,s), (0,1), 3)\n",
    "fys = gD(Fcam, (s,s), (1,0), 3)\n",
    "imshow_row([(fxs, r\"$f\\ast G^{%5.2f}_x$\" % s), \n",
    "            (fys, r\"$f\\ast G^{%5.2f}_y$\" % s), \n",
    "            None])\n",
    "\n",
    "plt.figure()\n",
    "fxxs = gD(Fcam, (s,s), (0,2), 3)\n",
    "fxys = gD(Fcam, (s,s), (1,1), 3)\n",
    "fyys = gD(Fcam, (s,s), (2,0), 3)\n",
    "imshow_row([ (fxxs, r\"$f\\ast G^{%5.2f}_{xx}$\" % s), \n",
    "             (fxys, r\"$f\\ast G^{%5.2f}_{xy}$\" % s),\n",
    "             (fyys, r\"$f\\ast G^{%5.2f}_{yy}$\" % s)])\n"
   ]
  },
  {
   "cell_type": "markdown",
   "id": "discrete-tampa",
   "metadata": {},
   "source": [
    "## Exercise 9: Canny Edge Detector\n",
    "\n",
    "Implement the Canny edge detector using the `gD` function developed in previous exercises. Your function `E = canny(F, s)` should produce an image `E`, marking edge pixels with their gradient norm values and setting non-edge pixels to zero.\n",
    "\n",
    "To detect zero crossings, create a function that examines each 3x3 pixel neighborhood for negative and positive values on opposite sides of the center pixel. Although not flawless, this method is effective. Use the `generic_filter` function for this purpose.\n",
    "\n",
    "Apply your Canny detector on the `cameraman.png` image, experiment with various scale values for derivative calculations, and discuss the outcomes and any observed differences."
   ]
  },
  {
   "cell_type": "code",
   "execution_count": null,
   "id": "linear-weight",
   "metadata": {},
   "outputs": [],
   "source": [
    "from scipy.ndimage import generic_filter\n",
    "\n",
    "def zero_crossing(nbh):\n",
    "    \"\"\"\n",
    "    Takes a 3x3 neighborhood of a point given as a 1D array with 9 elements, and \n",
    "    determines whether that point is a zero crossing. (Input as a 1D array, since\n",
    "    this is the format used by generic_filter.)\n",
    "    \"\"\"\n",
    "    f1, f2, f3, f4, f5, f6, f7, f8, f9 = nbh\n",
    "    if f1 * f9 < 0:\n",
    "        return 1\n",
    "    if f2 * f8 < 0:\n",
    "        return 1\n",
    "    if f3 * f7 < 0:\n",
    "        return 1\n",
    "    if f4 * f6 < 0:\n",
    "        return 1\n",
    "    return 0\n",
    "\n",
    "def canny(F, scale):    \n",
    "    ### YOUR CODE HERE\n",
    "    raise NotImplementedError\n"
   ]
  },
  {
   "cell_type": "code",
   "execution_count": null,
   "id": "generous-thursday",
   "metadata": {
    "scrolled": true
   },
   "outputs": [],
   "source": [
    "F = plt.imread('cameraman.png')\n",
    "zc1 = canny(F, 1)\n",
    "zc2 = canny(F, 2)\n",
    "zc4 = canny(F, 4)\n",
    "zc8 = canny(F, 8)\n",
    "\n",
    "imshow_row([(zc1, \"Canny (s=1)\"),\n",
    "            (zc2, \"Canny (s=2)\")])\n",
    "plt.figure()\n",
    "imshow_row([(zc4, \"Canny (s=4)\"),\n",
    "            (zc8, \"Canny (s=8)\")])"
   ]
  }
 ],
 "metadata": {
  "kernelspec": {
   "display_name": "Python 3",
   "language": "python",
   "name": "python3"
  },
  "language_info": {
   "codemirror_mode": {
    "name": "ipython",
    "version": 3
   },
   "file_extension": ".py",
   "mimetype": "text/x-python",
   "name": "python",
   "nbconvert_exporter": "python",
   "pygments_lexer": "ipython3",
   "version": "3.10.14"
  }
 },
 "nbformat": 4,
 "nbformat_minor": 5
}
