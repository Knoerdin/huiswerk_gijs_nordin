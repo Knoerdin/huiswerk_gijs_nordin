{
 "cells": [
  {
   "cell_type": "markdown",
   "metadata": {},
   "source": [
    "# CNN for Classification of Small Images (CIFAR 10 dataset)"
   ]
  },
  {
   "cell_type": "markdown",
   "metadata": {},
   "source": [
    "This notebook is an adaptation of a demo notebook in the Pytorch documentation. Please be patient while running the code in the notebook. \n",
    "\n",
    "We haven't used a GPU \\(that might be available on your computer\\) and training two epochs on CPU takes around a minute.\n",
    "\n",
    "In order to run the code you need to install pytorch on your system. The modules `torch` and `torchvision` should be installed. See the [PyTorch](https://pytorch.org/) website how to install Pytorch on your machine.\n",
    "\n",
    "*Important*: We recommend installing torch version <= 1.13.1.\n",
    "\n",
    "The [PyTorch](https://pytorch.org/) website is invaluable for understanding the code in this notebook. And it is a great source for further exploration of modern Machine Learning."
   ]
  },
  {
   "cell_type": "code",
   "execution_count": 1,
   "metadata": {},
   "outputs": [],
   "source": [
    "import torch\n",
    "import torchvision\n",
    "import torchvision.transforms as transforms\n",
    "import torch.nn as nn\n",
    "import torch.nn.functional as F\n",
    "import torch.optim as optim\n",
    "\n",
    "import matplotlib.pyplot as plt\n",
    "import numpy as np"
   ]
  },
  {
   "cell_type": "code",
   "execution_count": 2,
   "metadata": {},
   "outputs": [
    {
     "name": "stdout",
     "output_type": "stream",
     "text": [
      "CPU used\n"
     ]
    }
   ],
   "source": [
    "device = None; \n",
    "# device = torch.device('cpu') # uncomment this line to explicitly set the device\n",
    "if device == None:\n",
    "    if torch.cuda.is_available():\n",
    "        print(\"CUDA used\")\n",
    "        device = torch.device('cuda')\n",
    "    else:\n",
    "        print(\"CPU used\")\n",
    "        device = torch.device('cpu')"
   ]
  },
  {
   "cell_type": "markdown",
   "metadata": {},
   "source": [
    "## Loading Images from the Data Set"
   ]
  },
  {
   "cell_type": "markdown",
   "metadata": {},
   "source": [
    "PyTorch includes several built-in datasets, including CIFAR. The provided code downloads and load this dataset, transforming the images during training and testing. Specifically, it converts images to tensors (PyTorch's fundamental data structure, similar to NumPy's ndarray) and normalizes them by subtracting 0.5 from each RGB value and dividing by 0.5. This shifts the RGB values from a range of 0-1 to -1 to +1, which is crucial for neural network performance."
   ]
  },
  {
   "cell_type": "markdown",
   "metadata": {},
   "source": [
    "PyTorch loads a dataset into separate train and test sets. First we define the trainset."
   ]
  },
  {
   "cell_type": "code",
   "execution_count": 3,
   "metadata": {},
   "outputs": [
    {
     "name": "stdout",
     "output_type": "stream",
     "text": [
      "Dataset CIFAR10\n",
      "    Number of datapoints: 50000\n",
      "    Root location: ./data\n",
      "    Split: Train\n",
      "    StandardTransform\n",
      "Transform: Compose(\n",
      "               ToTensor()\n",
      "               Normalize(mean=(0.5, 0.5, 0.5), std=(0.5, 0.5, 0.5))\n",
      "           )\n"
     ]
    }
   ],
   "source": [
    "# Uncomment the following 2 lines if you get a SSL certificate error to disable the verification.\n",
    "# import ssl\n",
    "# ssl._create_default_https_context = ssl._create_unverified_context (edited)\n",
    "\n",
    "transform = transforms.Compose(\n",
    "    [transforms.ToTensor(), transforms.Normalize((0.5, 0.5, 0.5), (0.5, 0.5, 0.5))]\n",
    ")\n",
    "trainset = torchvision.datasets.CIFAR10(\n",
    "    root='./data', train=True, download=True, transform=transform\n",
    ")\n",
    "print(trainset)"
   ]
  },
  {
   "cell_type": "markdown",
   "metadata": {},
   "source": [
    "The trainset has an attribute ``data`` that contains the entire datamatrix in a numpy array."
   ]
  },
  {
   "cell_type": "code",
   "execution_count": 4,
   "metadata": {},
   "outputs": [
    {
     "data": {
      "text/plain": [
       "(50000, 32, 32, 3)"
      ]
     },
     "execution_count": 4,
     "metadata": {},
     "output_type": "execute_result"
    }
   ],
   "source": [
    "trainset.data.shape"
   ]
  },
  {
   "cell_type": "markdown",
   "metadata": {},
   "source": [
    "i.e. 50000 images of 32x32 pixels each with an R, G and B value."
   ]
  },
  {
   "cell_type": "markdown",
   "metadata": {},
   "source": [
    "Also the labels are encoded in a simple Python list"
   ]
  },
  {
   "cell_type": "code",
   "execution_count": 5,
   "metadata": {},
   "outputs": [
    {
     "data": {
      "text/plain": [
       "50000"
      ]
     },
     "execution_count": 5,
     "metadata": {},
     "output_type": "execute_result"
    }
   ],
   "source": [
    "len(trainset.targets)"
   ]
  },
  {
   "cell_type": "markdown",
   "metadata": {},
   "source": [
    "The target values are indices from 0 to 9 and the corresponding class names are encoded in the following list:"
   ]
  },
  {
   "cell_type": "code",
   "execution_count": 6,
   "metadata": {},
   "outputs": [
    {
     "name": "stdout",
     "output_type": "stream",
     "text": [
      "['airplane', 'automobile', 'bird', 'cat', 'deer', 'dog', 'frog', 'horse', 'ship', 'truck']\n"
     ]
    }
   ],
   "source": [
    "classnames = trainset.classes\n",
    "print(classnames)"
   ]
  },
  {
   "cell_type": "markdown",
   "metadata": {},
   "source": [
    "In pure Python/Numpy we can now display one of the images with the target class name as title for the plot:"
   ]
  },
  {
   "cell_type": "code",
   "execution_count": 7,
   "metadata": {},
   "outputs": [
    {
     "data": {
      "image/png": "[encoded data removed]",
      "text/plain": [
       "<Figure size 640x480 with 1 Axes>"
      ]
     },
     "metadata": {},
     "output_type": "display_data"
    }
   ],
   "source": [
    "i = 66\n",
    "plt.imshow(trainset.data[i])\n",
    "plt.axis('off')\n",
    "plt.title(classnames[trainset.targets[i]]);"
   ]
  },
  {
   "cell_type": "markdown",
   "metadata": {},
   "source": [
    "Later on we will define a ``DataLoader`` that makes it easy to load a small number of (image, target) tuples (a batch) needed in one gradient descent step in the stochastic gradient learning process. While loading the data the data in the dataset is transformed on the fly. For this dataset two transforms are used in sequence. First the ``ToTensor`` transform that takes an HxWxC (with C=3) numpy array into a PyTorch tensor of shape CxHxW which is the standard for encoding color images in deep learning. The second transform in the sequence is a normalization (see the PyTorch documentation for ``torchvision.transforms.Normalize``)."
   ]
  },
  {
   "cell_type": "markdown",
   "metadata": {},
   "source": [
    "Later, we will create a `DataLoader` to facilitate the loading of small batches of (image, target) tuples required for each step of stochastic gradient descent. This DataLoader will perform on-the-fly transformations on the dataset. For this dataset, two sequential transformations are applied: `ToTensor`, which converts an HxWxC (where C=3) NumPy array into a PyTorch tensor in the CxHxW format (standard for color images in deep learning), and normalization, as specified in the PyTorch documentation for `torchvision.transforms.Normalize`."
   ]
  },
  {
   "cell_type": "markdown",
   "metadata": {},
   "source": [
    "<span style=\"color:red\">**Question 1.1**</span>\n",
    "\n",
    "Given the normalization ``Normalize((0.5, 0.5, 0.5), (0.5, 0.5, 0.5))`` and an original color value (r,g,b) what is the normalized color value (r',g',b')? Why do we have 6 0.5s?"
   ]
  },
  {
   "cell_type": "markdown",
   "metadata": {},
   "source": [
    "YOUR ANSWER HERE\\\n",
    "After normalizing the range shifts to -1 to +1. The Normalize takes the (mean, std) as inputs. in a range between 0-1, the mean and std are the same: 0.5."
   ]
  },
  {
   "cell_type": "markdown",
   "metadata": {},
   "source": [
    "In the same way we define and load the testset:"
   ]
  },
  {
   "cell_type": "code",
   "execution_count": 8,
   "metadata": {},
   "outputs": [],
   "source": [
    "testset = torchvision.datasets.CIFAR10(\n",
    "    root='./data', train=False, download=True, transform=transform\n",
    ")"
   ]
  },
  {
   "cell_type": "markdown",
   "metadata": {},
   "source": [
    "We will define a `DataLoader` for both the training and testing sets. In the DataLoader's constructor, specify the batch_size. This DataLoader, functioning as a Python iterable, enables the retrieval of `batch_size` arbitrary images from the dataset."
   ]
  },
  {
   "cell_type": "code",
   "execution_count": 9,
   "metadata": {},
   "outputs": [],
   "source": [
    "batch_size = 4\n",
    "trainloader = torch.utils.data.DataLoader(\n",
    "    trainset, batch_size=batch_size, shuffle=True, num_workers=2\n",
    ")\n",
    "testloader = torch.utils.data.DataLoader(\n",
    "    testset, batch_size=batch_size, shuffle=False, num_workers=2\n",
    ")"
   ]
  },
  {
   "cell_type": "markdown",
   "metadata": {},
   "source": [
    "## Displaying Tensor Images"
   ]
  },
  {
   "cell_type": "markdown",
   "metadata": {},
   "source": [
    "For displaying 'tensor images' we provide two helper functions:"
   ]
  },
  {
   "cell_type": "code",
   "execution_count": 10,
   "metadata": {},
   "outputs": [
    {
     "data": {
      "image/png": "[encoded data removed]",
      "text/plain": [
       "<Figure size 1600x400 with 4 Axes>"
      ]
     },
     "metadata": {},
     "output_type": "display_data"
    }
   ],
   "source": [
    "def imshow(img, ax=None):\n",
    "    \"\"\"imshow for Tensor Images obtained with a DataLoader\n",
    "    from a data set. The images are of shape (3,M,N)\n",
    "    and are in the range from -1 to +1\"\"\"\n",
    "    img = (img - img.min()) / (img.max()-img.min())     # unnormalize\n",
    "    npimg = img.numpy()\n",
    "    if ax==None:\n",
    "        plt.imshow(np.transpose(npimg, (1, 2, 0)))\n",
    "    else:\n",
    "        ax.imshow(np.transpose(npimg, (1, 2, 0)))\n",
    "        \n",
    "def imtable(imgs, titles, ncols, hsize=4, vsize=4):\n",
    "    nrows = int(np.ceil(len(imgs)/ncols))\n",
    "    fig, axs = plt.subplots(nrows, ncols, figsize=(ncols*hsize, nrows*vsize))\n",
    "    r, c = 0, 0\n",
    "    for i, (im, label) in enumerate(zip(imgs, titles)):\n",
    "        if nrows==1:\n",
    "            ax = axs[c]\n",
    "        elif ncols==1:\n",
    "            ax = axs[r]\n",
    "        else:\n",
    "            ax = axs[r,c]\n",
    "        imshow(im, ax=ax)\n",
    "        ax.set_title(titles[i])\n",
    "        ax.axis('off')\n",
    "        c += 1\n",
    "        if c == ncols:\n",
    "            r += 1\n",
    "            c = 0\n",
    "    plt.tight_layout()\n",
    "        \n",
    "# get some random training images\n",
    "dataiter = iter(trainloader)\n",
    "images, labels = next(dataiter)\n",
    "imtable(images, [classnames[i] for i in labels], 4)\n"
   ]
  },
  {
   "cell_type": "markdown",
   "metadata": {},
   "source": [
    "<span style=\"color:red\">**Question 1.2**</span>\n",
    "\n",
    "If you would be random guessing the class of an image what would be the expected accuracy of the 'classifier'?"
   ]
  },
  {
   "cell_type": "markdown",
   "metadata": {},
   "source": [
    "YOUR ANSWER HERE\\\n",
    "The expected accuracy is 10 percent. Because the database has 10 different classes. The probablity for each class is 1/10"
   ]
  },
  {
   "cell_type": "markdown",
   "metadata": {},
   "source": [
    "## Define a Convolutional Neural Network"
   ]
  },
  {
   "cell_type": "markdown",
   "metadata": {},
   "source": [
    "\n",
    "We define a CNN to classify CIFAR images by first instantiating the functional processing blocks in the `__init__` function and then utilizing them in the `forward` method to implement the network's forward pass from input to output.\n",
    "\n",
    "PyTorch automatically handles the backpropagation to calculate derivatives of the loss with respect to the data throughout the network. However, if you introduce new functional processing blocks as a programmer, you will need to manually implement the backward pass."
   ]
  },
  {
   "cell_type": "code",
   "execution_count": 11,
   "metadata": {},
   "outputs": [],
   "source": [
    "class Net(nn.Module):\n",
    "    def __init__(self, verbose=0):\n",
    "        super().__init__()\n",
    "        self.conv1 = nn.Conv2d(3, 10, 5)\n",
    "        self.pool1 = nn.MaxPool2d(2, 2)\n",
    "        self.conv2 = nn.Conv2d(10, 16, 5)\n",
    "        self.pool2 = nn.MaxPool2d(2, 2)\n",
    "        self.fc1 = nn.Linear(16 * 5 * 5, 120)\n",
    "        self.fc2 = nn.Linear(120, 84)\n",
    "        self.fc3 = nn.Linear(84, 10)\n",
    "        self.verbose = verbose\n",
    "        \n",
    "    def forward(self, x):\n",
    "        # Note in the forward pass we have 'numbered'\n",
    "        # the x's just to make it easier to collect\n",
    "        # the code to print information about the network\n",
    "        # further on in the code.\n",
    "\n",
    "        # This is very bad code!!\n",
    "\n",
    "        conv1_out = self.conv1(x)\n",
    "        if self.verbose == 1:\n",
    "            print(\"Shape of conv1(x):\", conv1_out.shape)\n",
    "        x1 = self.pool1(F.relu(self.conv1(x)))\n",
    "        if self.verbose == 1:\n",
    "            print(f\"Shape x1: {x1.shape}\")\n",
    "        x2 = self.pool2(F.relu(self.conv2(x1)))\n",
    "        if self.verbose == 1:\n",
    "            print(f\"Shape x2: {x2.shape}\")\n",
    "        x3 = torch.flatten(x2, 1) # flatten all dimensions except batch\n",
    "        if self.verbose == 1:\n",
    "            print(f\"Shape x3: {x3.shape}\")\n",
    "        x4 = F.relu(self.fc1(x3))\n",
    "        if self.verbose == 1:\n",
    "            print(f\"Shape x4: {x4.shape}\")\n",
    "        x5 = F.relu(self.fc2(x4))\n",
    "        if self.verbose == 1:\n",
    "            print(f\"Shape x5: {x5.shape}\")\n",
    "        x6 = self.fc3(x5)\n",
    "        if self.verbose == 1:\n",
    "            print(f\"Shape x6: {x6.shape}\")\n",
    "        self.conv1 = nn.Conv2d(3, 10, 5)\n",
    "        if self.verbose == 1:\n",
    "            print(self.conv1)\n",
    "\n",
    "        if self.verbose == 1:\n",
    "            # Write the code to print the shapes of the \n",
    "            # different stages in the CNN\n",
    "            # YOUR CODE HERE (Replace this and the following line with your code)\n",
    "            self.verbose -= 1\n",
    "        \n",
    "        return x6\n",
    "\n",
    "# with verbose=1 the 'debugging' code is printed only once \n",
    "# while running the forward pass multiple times.\n",
    "net = Net(verbose=0).to(device=device)"
   ]
  },
  {
   "cell_type": "markdown",
   "metadata": {},
   "source": [
    "When you print an instance of a network class, it provides an overview of the functional processing blocks defined within. Note that functions like `relu` and `flatten` won't appear in this printout, although they are part of the processing flow. The reason for this is that we define these 'activation' and 'flattening' functions as part of the forward pass, utilizing `functional` block, and not `nn.Module` representing operation (see [torch.nn.ReLU](https://pytorch.org/docs/stable/generated/torch.nn.ReLU.html) and [torch.nn.functional.relu\n",
    "](https://pytorch.org/docs/stable/generated/torch.nn.functional.relu.html), and [this thread](https://discuss.pytorch.org/t/f-relu-and-nn-relu/123071/2) to understand the difference)."
   ]
  },
  {
   "cell_type": "code",
   "execution_count": 12,
   "metadata": {},
   "outputs": [
    {
     "name": "stdout",
     "output_type": "stream",
     "text": [
      "Net(\n",
      "  (conv1): Conv2d(3, 10, kernel_size=(5, 5), stride=(1, 1))\n",
      "  (pool1): MaxPool2d(kernel_size=2, stride=2, padding=0, dilation=1, ceil_mode=False)\n",
      "  (conv2): Conv2d(10, 16, kernel_size=(5, 5), stride=(1, 1))\n",
      "  (pool2): MaxPool2d(kernel_size=2, stride=2, padding=0, dilation=1, ceil_mode=False)\n",
      "  (fc1): Linear(in_features=400, out_features=120, bias=True)\n",
      "  (fc2): Linear(in_features=120, out_features=84, bias=True)\n",
      "  (fc3): Linear(in_features=84, out_features=10, bias=True)\n",
      ")\n"
     ]
    }
   ],
   "source": [
    "print(net)"
   ]
  },
  {
   "cell_type": "markdown",
   "metadata": {},
   "source": [
    "\n",
    "When you instantiate the `Net` class and print it, the output does not show the shapes of data processed at each layer. To address this, you can modify the `Net` class to include detailed information about the data shapes.\n",
    "\n",
    "The example code sets the `verbose` attribute of the `Net` instance to 1 and feeds it a batch of images. While the output is printed, it’s important to remember that it doesn't represent meaningful data yet as the network hasn't learned anything.\n",
    "\n",
    "PyTorch automatically handles the initialization of parameters for each processing module in the network. However, you can customize this initialization if desired by referring to the PyTorch documentation."
   ]
  },
  {
   "cell_type": "code",
   "execution_count": 13,
   "metadata": {},
   "outputs": [
    {
     "name": "stdout",
     "output_type": "stream",
     "text": [
      "Shape of conv1(x): torch.Size([4, 10, 28, 28])\n",
      "Shape x1: torch.Size([4, 10, 14, 14])\n",
      "Shape x2: torch.Size([4, 16, 5, 5])\n",
      "Shape x3: torch.Size([4, 400])\n",
      "Shape x4: torch.Size([4, 120])\n",
      "Shape x5: torch.Size([4, 84])\n",
      "Shape x6: torch.Size([4, 10])\n",
      "Conv2d(3, 10, kernel_size=(5, 5), stride=(1, 1))\n",
      "tensor([[-0.1181, -0.0525,  0.0119, -0.0474, -0.0450,  0.0336,  0.0735, -0.0862,\n",
      "         -0.0229, -0.0993],\n",
      "        [-0.1317, -0.0487,  0.0318, -0.0410, -0.0477,  0.0438,  0.0615, -0.0867,\n",
      "         -0.0421, -0.1039],\n",
      "        [-0.1211, -0.0577,  0.0082, -0.0432, -0.0433,  0.0396,  0.0795, -0.0830,\n",
      "         -0.0347, -0.0911],\n",
      "        [-0.1194, -0.0524,  0.0202, -0.0476, -0.0450,  0.0322,  0.0796, -0.0759,\n",
      "         -0.0317, -0.0909]], grad_fn=<AddmmBackward0>)\n"
     ]
    }
   ],
   "source": [
    "net.verbose=1 # when you run it you should set this to 1\n",
    "images, labels = next(dataiter)\n",
    "images = images.to(device)\n",
    "labels = labels.to(device)\n",
    "outputs = net(images)\n",
    "print(outputs)"
   ]
  },
  {
   "cell_type": "markdown",
   "metadata": {},
   "source": [
    "With the printed information you ought to be able to answer the following questions:"
   ]
  },
  {
   "cell_type": "markdown",
   "metadata": {},
   "source": [
    "In a data graph the first part of this network looks like\n",
    "<img src=\"cifar_cnn_incomplete.png\"\n",
    "     width=80%\n",
    "     alt=\"data flow graph\"\n",
    "     style=\"float: center;\" />\n",
    "\n",
    "In a typical CNN representation, the **data blocks** are depicted as the dimensions of the data at each stage, with **arrows** representing the processing modules. For instance, the first arrow might represent the sequence of operations: `Conv1 --> ReLU --> Maxpool`.\n",
    "\n",
    "The CIFAR images start as 32x32 pixels with 3 color channels (RGB), denoted as $W_1 = H_1 = 32$ and $C_1 = 3$. At the end of the CNN, the output is a 10-element vector, where each element corresponds to the activation for one of the ten classes. This final layer is achieved through a fully connected network that maps from a previous layer, which is an 84-element vector.\n",
    "\n",
    "To track changes in data shape after specific layers, such as after the first or second convolution, you would need to adjust the `forward` method in the network class. This modification can help with debugging or understanding how the network processes and transforms the input data through its layers."
   ]
  },
  {
   "cell_type": "markdown",
   "metadata": {},
   "source": [
    "<span style=\"color:red\">**Question 2.1**</span>\n",
    "\n",
    "If you print the shape of tensor ``x`` in the ``forward`` method you will get ``torch.Size([4, 3, 32, 32])``. Why is the first dimension of size 4 in this tensor? Note that this size is NOT depicted in the above graph!"
   ]
  },
  {
   "cell_type": "markdown",
   "metadata": {},
   "source": [
    "YOUR ANSWER HERE\\\n",
    "The first element of the list is the batch size. Here it's 4 beacuse we want to take batches of 4 pictures from the database."
   ]
  },
  {
   "cell_type": "markdown",
   "metadata": {},
   "source": [
    "<span style=\"color:red\">**Question 2.2**</span>\n",
    "\n",
    "What is the shape of the output of ``conv1(x)``? What does it tell you about the convolution/correlation algorithm that is used? To find this experimentally you have to change the code in the ``forward`` method."
   ]
  },
  {
   "cell_type": "markdown",
   "metadata": {},
   "source": [
    "YOUR ANSWER HERE\\\n",
    "After changing the forward function the shape of conv1(x) is: torch.Size([4, 10, 28, 28]) the shrinking height and width indicate that convolution is used."
   ]
  },
  {
   "cell_type": "markdown",
   "metadata": {},
   "source": [
    "<span style=\"color:red\">**Question 2.3**</span>\n",
    "\n",
    "Complete the data graph. For each of data block (image blocks at the start and flattened arrays at the end) you should indicate the shape of the block. The blocks correspond with the tensors `x`, `x1` ... `x6` in the `forward` method. Either you should look into the documentation of the processing modules that are being used in the `__init__` function or you should run the code and print the shapes (when we are running/training the network)."
   ]
  },
  {
   "cell_type": "markdown",
   "metadata": {},
   "source": [
    "YOUR ANSWER HERE\n",
    "after changing the documentation and printing the shapes the shapes are:\n",
    "Shape x1: torch.Size([4, 10, 14, 14])\n",
    "Shape x2: torch.Size([4, 16, 5, 5])\n",
    "Shape x3: torch.Size([4, 400])\n",
    "Shape x4: torch.Size([4, 120])\n",
    "Shape x5: torch.Size([4, 84])\n",
    "Shape x6: torch.Size([4, 10])"
   ]
  },
  {
   "cell_type": "markdown",
   "metadata": {},
   "source": [
    "<span style=\"color:red\">**Question 2.4**</span>\n",
    "\n",
    "In the `__init__` function the following processing modules are defined: `conv1`, `pool1`, `conv2`, `pool2`, `fc1`, `fc2` and `fc3`. Indicate where these modules are used in your data flow graph (i.e. you have to label the arrows in the graph with the (sequence of) operations associated with each arrow."
   ]
  },
  {
   "cell_type": "markdown",
   "metadata": {},
   "source": [
    "YOUR ANSWER HERE\\\n",
    "Vanuit de input laag naar naar de eerstvolgende laag (pijl 1 / fc1 -> fc2) is de sequence of operations: conv1 -> pool1. Daarna heeft pijl 2 (fc2 -> fc3) de sequence: conv2 -> pool2 -> fc3.\\\n",
    "Of in totaal: fc1 -> conv1 -> pool1 -> fc2 -> conv2 -> pool2 -> fc3."
   ]
  },
  {
   "cell_type": "markdown",
   "metadata": {},
   "source": [
    "<span style=\"color:red\">**Question 2.5**</span>\n",
    "\n",
    "For each of processing modules `conv1`, `pool1`, `conv2`, `pool2`, `fc1`, `fc2` and `fc3` give the number of parameters that have to be learned (don't forget the bias parameters...)"
   ]
  },
  {
   "cell_type": "markdown",
   "metadata": {},
   "source": [
    "YOUR ANSWER HERE\\\n",
    "Om te beginnen hebben pooling layers geen trainbare parameters, dus die zal ik ook niet bespreken\\\n",
    "fc1: (120 x 400) + 120 = 48.120\\\n",
    "fc2: (84 x 120) + 84 = 10.164\\\n",
    "fc3: (10 x 84) + 10 = 850\\\n",
    "conv1: (10 x 3 x 5 x 5) + 10 = 760\\\n",
    "conv2: (16 x 10 x 5 x 5) + 16 = 4.016\\\n",
    "Geeft een totaal van 63.910 trainbare parameters."
   ]
  },
  {
   "cell_type": "markdown",
   "metadata": {},
   "source": [
    "**HINT**: The answer to question 2.5 can be computed by 'interrogating' the network. For instance for the `fc2` linear module we get:"
   ]
  },
  {
   "cell_type": "code",
   "execution_count": 14,
   "metadata": {},
   "outputs": [
    {
     "name": "stdout",
     "output_type": "stream",
     "text": [
      "torch.Size([16, 10, 5, 5])\n",
      "torch.Size([16])\n"
     ]
    }
   ],
   "source": [
    "for p in net.conv2.parameters():\n",
    "    print(p.shape)"
   ]
  },
  {
   "cell_type": "markdown",
   "metadata": {},
   "source": [
    "So for this module there are two tensors defining the parameters. Note that an object of type `torch.Size` is not a tensor"
   ]
  },
  {
   "cell_type": "markdown",
   "metadata": {},
   "source": [
    "<span style=\"color:red\">**Question 2.6**</span>\n",
    "\n",
    "What are these tensors? (please look back in your machine learning course notes)."
   ]
  },
  {
   "cell_type": "markdown",
   "metadata": {},
   "source": [
    "YOUR ANSWER HERE\\\n",
    "A tensor is a multi-dimensional array that in machine learning efficiently represent data and model parameters for computation for CPUs or GPUs."
   ]
  },
  {
   "cell_type": "markdown",
   "metadata": {},
   "source": [
    "<span style=\"color:red\">**Question 2.7**</span>\n",
    "\n",
    "How many parameters in total for this `fc2` module?"
   ]
  },
  {
   "cell_type": "markdown",
   "metadata": {},
   "source": [
    "YOUR ANSWER HERE\\\n",
    "10.164"
   ]
  },
  {
   "cell_type": "markdown",
   "metadata": {},
   "source": [
    "Below you have to write the code to calculate the total number of parameters to be learned in this network."
   ]
  },
  {
   "cell_type": "code",
   "execution_count": 15,
   "metadata": {},
   "outputs": [
    {
     "name": "stdout",
     "output_type": "stream",
     "text": [
      "conv1 weights: torch.Size([10, 3, 5, 5]) = 750\n",
      "conv1 bias: torch.Size([10]) = 10\n",
      "conv2 weights: torch.Size([16, 10, 5, 5]) = 4000\n",
      "conv2 bias: torch.Size([16]) = 16\n",
      "fc1 weights: torch.Size([120, 400]) = 48000\n",
      "fc1 bias: torch.Size([120]) = 120\n",
      "fc2 weights: torch.Size([84, 120]) = 10080\n",
      "fc2 bias: torch.Size([84]) = 84\n",
      "fc3 weights: torch.Size([10, 84]) = 840\n",
      "fc3 bias: torch.Size([10]) = 10\n",
      "Total number of parameters in the network: 63910\n"
     ]
    }
   ],
   "source": [
    "# Write the code to calculate the total number of parameters in the entire network\n",
    "# YOUR CODE HERE (Replace this and the following line with your code)\n",
    "total_params = 0\n",
    "for p, name in zip(net.parameters(), ['conv1 weights', 'conv1 bias', 'conv2 weights', 'conv2 bias', 'fc1 weights', 'fc1 bias', 'fc2 weights', 'fc2 bias', 'fc3 weights', 'fc3 bias']):\n",
    "    print(f'{name}: {p.shape} = {p.numel()}')\n",
    "    total_params += p.numel()\n",
    "print(\"Total number of parameters in the network:\", total_params)"
   ]
  },
  {
   "cell_type": "markdown",
   "metadata": {},
   "source": [
    "Later on in this notebook we revisit the interrogation of the network again to actually observe what parameter values are learned."
   ]
  },
  {
   "cell_type": "markdown",
   "metadata": {},
   "source": [
    "## Loss Function and Optimizer"
   ]
  },
  {
   "cell_type": "markdown",
   "metadata": {},
   "source": [
    "To train the network we also need to define a loss function:"
   ]
  },
  {
   "cell_type": "code",
   "execution_count": 16,
   "metadata": {},
   "outputs": [],
   "source": [
    "loss_criterion = nn.CrossEntropyLoss()"
   ]
  },
  {
   "cell_type": "markdown",
   "metadata": {},
   "source": [
    "When input data is processed through a neural network in PyTorch, the output is obtained with:\n",
    "\n",
    "```python\n",
    "outputs = net(inputs)\n",
    "```\n",
    "\n",
    "These outputs are then compared with the target values using the `CrossEntropyLoss` function. This loss function is particularly suited for classification tasks because it handles the softmax activation internally, which is why a separate softmax function is not required in this network.\n",
    "\n",
    "It is important to note that while the network output is a 10-element vector representing the activation for each class, the target for each example is simply an integer representing the class ID. The conversion from this integer format to a _one-hot encoding_ is handled implicitly within the `CrossEntropyLoss` function, simplifying the input requirements for this function."
   ]
  },
  {
   "cell_type": "markdown",
   "metadata": {},
   "source": [
    "We also need an optimizer. A standard optimizer is PyTorch is the SGD (Stochastic Gradient Descent) optimizer."
   ]
  },
  {
   "cell_type": "code",
   "execution_count": 17,
   "metadata": {},
   "outputs": [],
   "source": [
    "optimizer = optim.SGD(net.parameters(), lr=0.001, momentum=0.9, dampening=0)"
   ]
  },
  {
   "cell_type": "markdown",
   "metadata": {},
   "source": [
    "here `lr` is the learning rate. The momentum is used in the gradient descent procedure to 'remember' in which direction the gradient descent is running and not deviate too easily from that direction."
   ]
  },
  {
   "cell_type": "markdown",
   "metadata": {},
   "source": [
    "<span style=\"color:red\">**Question 2.8**</span>\n",
    "\n",
    "Read the explanation of the SGD optimizer in the PyTorch documentation.\n",
    "1. Why the name **stochastic** gradient descent?\n",
    "2. What value for the ``momemtum`` and `dampening` should be chosen to get the classical gradient descent?"
   ]
  },
  {
   "cell_type": "markdown",
   "metadata": {},
   "source": [
    "YOUR ANSWER HERE\\\n",
    "Stochastic means that the optimizer estimates the gradient instead of calculating the gradient over the whole dataset at each step. The estemating introduces noise.\\\n",
    "To get classic gradient descent, the values should be zero."
   ]
  },
  {
   "cell_type": "markdown",
   "metadata": {},
   "source": [
    "## Training the Network"
   ]
  },
  {
   "cell_type": "markdown",
   "metadata": {},
   "source": [
    "Training a neural network using a variant of the gradient descent algorithm typically involves the following steps:\n",
    "\n",
    "1. **Feed a Mini-Batch**: Feed a mini-batch of examples into the network.\n",
    "2. **Forward Pass**: Execute the forward pass, which calculates the output through all the network's intermediate processing modules.\n",
    "3. **Zero Gradients**: Set all gradients to zero to prevent accumulation from previous iterations.\n",
    "4. **Backward Pass**: Calculate the backward pass to determine all the gradients.\n",
    "5. **Parameter Update**: Update each parameter by making a step in the direction that minimizes the loss.\n",
    "\n",
    "This process is repeated for all mini-batches in the training set, completing what is known as an **epoch**. The training continues for a specified number of epochs.\n",
    "\n",
    "During training, it's important to monitor the loss:\n",
    "- **Training Loss**: Calculate and record the loss on the training set after each epoch.\n",
    "- **Test Loss**: Similarly, calculate the loss on the test set to evaluate generalization.\n",
    "- **Intermediate Monitoring**: To check progress within an epoch, report the loss for the last few batches.\n",
    "\n",
    "The entire process for one epoch is encapsulated in the `train_loop` function, which handles these operations and tracks progress.\n"
   ]
  },
  {
   "cell_type": "code",
   "execution_count": 18,
   "metadata": {},
   "outputs": [],
   "source": [
    "def train_loop(dataloader, model, loss_fn, optimizer, no_report=1000, device=None):\n",
    "    size = len(dataloader.dataset)\n",
    "    for batch, (X, y) in enumerate(dataloader):\n",
    "        # Move the data to GPU (if available)\n",
    "        X = X.to(device)\n",
    "        y = y.to(device)\n",
    "        # Compute prediction and loss\n",
    "        pred = model(X)\n",
    "        loss = loss_fn(pred, y)\n",
    "\n",
    "        # Backpropagation\n",
    "        optimizer.zero_grad()\n",
    "        loss.backward()\n",
    "        optimizer.step()\n",
    "\n",
    "        if batch % no_report == 0:\n",
    "            loss, current = loss.item(), batch * len(X)\n",
    "            print(f\"loss: {loss:>7f}  [{current:>5d}/{size:>5d}]\")\n",
    "            \n",
    "        "
   ]
  },
  {
   "cell_type": "markdown",
   "metadata": {},
   "source": [
    "While learning for several epochs we also calculate the performance on the test or validation set. This is encoded in the function `test_loop`."
   ]
  },
  {
   "cell_type": "code",
   "execution_count": 19,
   "metadata": {},
   "outputs": [],
   "source": [
    "def test_loop(dataloader, model, loss_fn, device=None):\n",
    "    size = len(dataloader.dataset)\n",
    "    num_batches = len(dataloader)\n",
    "    test_loss, correct = 0, 0\n",
    "\n",
    "    with torch.no_grad():\n",
    "        for X, y in dataloader:\n",
    "            X = X.to(device)\n",
    "            y = y.to(device)\n",
    "            pred = model(X)\n",
    "            test_loss += loss_fn(pred, y).item()\n",
    "            correct += (pred.argmax(1) == y).type(torch.float).sum().item()\n",
    "\n",
    "    test_loss /= num_batches\n",
    "    correct /= size\n",
    "    print(f\"Test Error: \\n Accuracy: {(100*correct):>0.1f}%, Avg loss: {test_loss:>8f} \\n\")"
   ]
  },
  {
   "cell_type": "markdown",
   "metadata": {},
   "source": [
    "The learning process then becomes:"
   ]
  },
  {
   "cell_type": "code",
   "execution_count": 20,
   "metadata": {},
   "outputs": [
    {
     "name": "stdout",
     "output_type": "stream",
     "text": [
      "Epoch 1\n",
      "-------------------------------\n",
      "loss: 2.260852  [    0/50000]\n",
      "loss: 2.292311  [ 4000/50000]\n",
      "loss: 2.264485  [ 8000/50000]\n",
      "loss: 2.311833  [12000/50000]\n",
      "loss: 2.328743  [16000/50000]\n",
      "loss: 2.399134  [20000/50000]\n",
      "loss: 2.254781  [24000/50000]\n",
      "loss: 2.291280  [28000/50000]\n",
      "loss: 2.251230  [32000/50000]\n",
      "loss: 2.450566  [36000/50000]\n",
      "loss: 2.310879  [40000/50000]\n",
      "loss: 2.423047  [44000/50000]\n",
      "loss: 2.304096  [48000/50000]\n",
      "Test Error: \n",
      " Accuracy: 18.6%, Avg loss: 2.192839 \n",
      "\n",
      "Epoch 2\n",
      "-------------------------------\n",
      "loss: 2.229520  [    0/50000]\n",
      "loss: 2.230584  [ 4000/50000]\n",
      "loss: 2.009138  [ 8000/50000]\n",
      "loss: 2.044782  [12000/50000]\n",
      "loss: 2.002610  [16000/50000]\n",
      "loss: 1.952102  [20000/50000]\n",
      "loss: 1.747257  [24000/50000]\n",
      "loss: 2.499846  [28000/50000]\n",
      "loss: 1.763695  [32000/50000]\n",
      "loss: 2.188468  [36000/50000]\n",
      "loss: 2.631223  [40000/50000]\n",
      "loss: 1.463880  [44000/50000]\n",
      "loss: 2.067712  [48000/50000]\n",
      "Test Error: \n",
      " Accuracy: 28.1%, Avg loss: 1.975714 \n",
      "\n",
      "Done!\n",
      "1min 48s ± 0 ns per loop (mean ± std. dev. of 1 run, 1 loop each)\n"
     ]
    }
   ],
   "source": [
    "%%timeit -n1 -r1\n",
    "epochs = 2\n",
    "for t in range(epochs):\n",
    "    print(f\"Epoch {t+1}\\n-------------------------------\")\n",
    "    train_loop(trainloader, net, loss_criterion, optimizer, device=device)\n",
    "    test_loop(testloader, net, loss_criterion, device=device)\n",
    "print(\"Done!\")"
   ]
  },
  {
   "cell_type": "code",
   "execution_count": 21,
   "metadata": {},
   "outputs": [],
   "source": [
    "# Uncomment the following 2 lines to save your network to file\n",
    "# PATH = './cifar_net_100e.pth'\n",
    "# torch.save(net.state_dict(), PATH)\n",
    "\n",
    "# when saved you can load it back into memory with\n",
    "# (again uncomment the following 2 lines)\n",
    "# net = Net().to(device)\n",
    "# net.load_state_dict(torch.load(PATH))"
   ]
  },
  {
   "cell_type": "markdown",
   "metadata": {},
   "source": [
    "We load some images from the test set, display these image with their ground truth label. "
   ]
  },
  {
   "cell_type": "code",
   "execution_count": 22,
   "metadata": {},
   "outputs": [
    {
     "ename": "AttributeError",
     "evalue": "'_MultiProcessingDataLoaderIter' object has no attribute 'next'",
     "output_type": "error",
     "traceback": [
      "\u001b[31m---------------------------------------------------------------------------\u001b[39m",
      "\u001b[31mAttributeError\u001b[39m                            Traceback (most recent call last)",
      "\u001b[36mCell\u001b[39m\u001b[36m \u001b[39m\u001b[32mIn[22]\u001b[39m\u001b[32m, line 2\u001b[39m\n\u001b[32m      1\u001b[39m dataiter = \u001b[38;5;28miter\u001b[39m(testloader)\n\u001b[32m----> \u001b[39m\u001b[32m2\u001b[39m images, labels = \u001b[43mdataiter\u001b[49m\u001b[43m.\u001b[49m\u001b[43mnext\u001b[49m()\n\u001b[32m      3\u001b[39m imtable(images, [classnames[i] \u001b[38;5;28;01mfor\u001b[39;00m i \u001b[38;5;129;01min\u001b[39;00m labels], \u001b[32m4\u001b[39m)\n",
      "\u001b[31mAttributeError\u001b[39m: '_MultiProcessingDataLoaderIter' object has no attribute 'next'"
     ]
    }
   ],
   "source": [
    "dataiter = iter(testloader)\n",
    "images, labels = dataiter.next()\n",
    "imtable(images, [classnames[i] for i in labels], 4)"
   ]
  },
  {
   "cell_type": "markdown",
   "metadata": {},
   "source": [
    "Then we feed these to the network and print the outputs of the 10 output nodes for all images. Note that now we are not training the network, so torch doesn't need to keep track of all the intermediate outputs of all modules in the network (in preparation of a backward pass) and we can tell Pytorch not to do that with `no_grad()`."
   ]
  },
  {
   "cell_type": "markdown",
   "metadata": {},
   "source": [
    "During the training phase, the `softmax` function was not applied to the outputs of the network. This is because the `CrossEntropyLoss` function in PyTorch automatically includes softmax as part of its computation, and using an additional softmax layer before applying this loss function is not necessary and can lead to incorrect training results.\n",
    "\n",
    "However, when using the network in feed-forward mode only (i.e., for inference and not training), it is appropriate to apply the `softmax` function to the outputs. This normalizes the outputs to produce a distribution of probabilities across the 10 classes, representing the model's predictions as a posteriori class probabilities:"
   ]
  },
  {
   "cell_type": "code",
   "execution_count": 23,
   "metadata": {},
   "outputs": [
    {
     "name": "stdout",
     "output_type": "stream",
     "text": [
      "[[0.17115887 0.10935178 0.07656749 0.05435533 0.10161292 0.08026578\n",
      "  0.01617444 0.20559044 0.1046323  0.08029062]\n",
      " [0.1415459  0.41484976 0.01179793 0.00971141 0.02468218 0.00740919\n",
      "  0.00384781 0.01180584 0.21086945 0.16348055]\n",
      " [0.04747098 0.01228911 0.19191834 0.15603995 0.18090376 0.11475608\n",
      "  0.16525981 0.07525932 0.0363613  0.01974124]\n",
      " [0.07188392 0.20569275 0.04209489 0.07738608 0.05358511 0.0690819\n",
      "  0.04197348 0.13072686 0.08316759 0.22440737]]\n"
     ]
    }
   ],
   "source": [
    "with torch.no_grad():\n",
    "    outputs = F.softmax(net(images.to(device)), dim=-1)\n",
    "npoutputs = outputs.cpu().numpy()\n",
    "print(npoutputs)"
   ]
  },
  {
   "cell_type": "markdown",
   "metadata": {},
   "source": [
    "The predicted label will be the label with the largest output value."
   ]
  },
  {
   "cell_type": "code",
   "execution_count": 24,
   "metadata": {},
   "outputs": [
    {
     "name": "stdout",
     "output_type": "stream",
     "text": [
      "True     :       horse   airplane       bird      truck\n",
      "Predicted:       horse automobile       bird      truck\n"
     ]
    }
   ],
   "source": [
    "maxvalue, maxindex = torch.max(outputs, 1)\n",
    "print('True     : ', ' '.join('%10s' % classnames[labels[j]]\n",
    "                              for j in range(batch_size)))\n",
    "print('Predicted: ', ' '.join('%10s' % classnames[maxindex[j]]\n",
    "                              for j in range(batch_size)))"
   ]
  },
  {
   "cell_type": "markdown",
   "metadata": {},
   "source": [
    "For such a small set of test images we run into the possibility that the classification is very bad. Let's test the network more carefully."
   ]
  },
  {
   "cell_type": "markdown",
   "metadata": {},
   "source": [
    "## Inspecting the Network"
   ]
  },
  {
   "cell_type": "markdown",
   "metadata": {},
   "source": [
    "Understanding the internal workings of a convolutional neural network (CNN) is often complex. Specifically, it can be challenging to determine what the learned weights represent, and many aspects of these networks remain largely unexplained. While there are several research papers that attempt to describe what specific nodes in a network respond to, these analyses are typically beyond the scope of an introductory course.\n",
    "\n",
    "### Visualizing the First Layer in CNNs\n",
    "\n",
    "An exception to this complexity is the visualization of the first layer in a CNN. The first layer's convolutional kernels directly interact with the input image data and can be visualized as images. In traditional computer vision, convolution kernels are used to detect specific features like edges, corners, and textures, and these can be similarly interpreted in CNNs.\n",
    "\n",
    "The hypothesis behind CNNs is that local structures in images carry the spatial information necessary for image interpretation. By visualizing the kernels, we can see if the network has learned to detect various local structure patterns, such as edges and textures. These patterns are then combined in subsequent layers to recognize larger structures in images."
   ]
  },
  {
   "cell_type": "markdown",
   "metadata": {},
   "source": [
    "Your task is to visualize the kernels in the first convolution module `conv1` as small images."
   ]
  },
  {
   "cell_type": "code",
   "execution_count": 25,
   "metadata": {},
   "outputs": [
    {
     "data": {
      "image/png": "[encoded data removed]",
      "text/plain": [
       "<Figure size 5000x500 with 10 Axes>"
      ]
     },
     "metadata": {},
     "output_type": "display_data"
    }
   ],
   "source": [
    "# Here the code to visualize the kernels\n",
    "# YOUR CODE HERE (Replace this and the following line with your code)\n",
    "def show_kernels(kernels, ncols, hsize, vsize):\n",
    "    fig, axs = plt.subplots(1, ncols, figsize=(ncols*hsize, vsize))\n",
    "    for i, kernel in enumerate(kernels):\n",
    "        ax = axs[i]\n",
    "        imshow(kernel, ax=ax)\n",
    "        ax.axis('off')\n",
    "    plt.tight_layout()\n",
    "kernels = net.conv1.weight.data.cpu()\n",
    "n_colls = kernels.shape[0]\n",
    "h_size = kernels.shape[2]\n",
    "v_size = kernels.shape[3]\n",
    "show_kernels(kernels, ncols=n_colls, hsize=h_size, vsize=v_size)\n"
   ]
  },
  {
   "cell_type": "markdown",
   "metadata": {},
   "source": [
    "## Improving the Network"
   ]
  },
  {
   "cell_type": "markdown",
   "metadata": {},
   "source": [
    "Choosing the right architecture for a convolutional neural network (CNN) often involves more art than science. Unlike other engineering disciplines where decisions can be based on precise calculations or established theories, designing a CNN requires a more experimental approach.\n",
    "\n",
    "The process of selecting and refining a CNN architecture typically involves a lot of trial and error. Developers/researchers might start with a basic model, test its performance, and then iteratively adjust the number of layers and channels to find the optimal configuration for their specific application. This experimental process allows for discovering how different configurations impact learning and performance, guiding the development towards the most effective model design."
   ]
  },
  {
   "cell_type": "code",
   "execution_count": 26,
   "metadata": {},
   "outputs": [
    {
     "name": "stdout",
     "output_type": "stream",
     "text": [
      "Epoch 1\n",
      "-------------------------------\n",
      "loss: 1.828965  [    0/50000]\n",
      "loss: 1.544151  [ 4000/50000]\n",
      "loss: 1.885576  [ 8000/50000]\n",
      "loss: 1.514337  [12000/50000]\n",
      "loss: 1.394904  [16000/50000]\n",
      "loss: 1.525707  [20000/50000]\n",
      "loss: 2.208327  [24000/50000]\n",
      "loss: 1.933784  [28000/50000]\n",
      "loss: 1.911335  [32000/50000]\n",
      "loss: 2.184885  [36000/50000]\n",
      "loss: 1.441190  [40000/50000]\n",
      "loss: 2.348816  [44000/50000]\n",
      "loss: 2.100231  [48000/50000]\n",
      "Test Error: \n",
      " Accuracy: 30.9%, Avg loss: 1.894000 \n",
      "\n",
      "Epoch 2\n",
      "-------------------------------\n",
      "loss: 1.458751  [    0/50000]\n",
      "loss: 2.025425  [ 4000/50000]\n",
      "loss: 3.480224  [ 8000/50000]\n",
      "loss: 1.459165  [12000/50000]\n",
      "loss: 1.422562  [16000/50000]\n",
      "loss: 1.998060  [20000/50000]\n",
      "loss: 1.799861  [24000/50000]\n",
      "loss: 2.073916  [28000/50000]\n",
      "loss: 2.028346  [32000/50000]\n",
      "loss: 2.856667  [36000/50000]\n",
      "loss: 1.754584  [40000/50000]\n",
      "loss: 2.111237  [44000/50000]\n",
      "loss: 1.897576  [48000/50000]\n",
      "Test Error: \n",
      " Accuracy: 33.0%, Avg loss: 1.844186 \n",
      "\n",
      "Epoch 3\n",
      "-------------------------------\n",
      "loss: 2.094272  [    0/50000]\n",
      "loss: 1.620717  [ 4000/50000]\n",
      "loss: 1.442888  [ 8000/50000]\n",
      "loss: 2.688902  [12000/50000]\n",
      "loss: 1.325908  [16000/50000]\n",
      "loss: 2.035292  [20000/50000]\n",
      "loss: 1.663310  [24000/50000]\n",
      "loss: 2.262302  [28000/50000]\n",
      "loss: 1.799402  [32000/50000]\n",
      "loss: 1.702755  [36000/50000]\n",
      "loss: 1.959408  [40000/50000]\n",
      "loss: 2.005211  [44000/50000]\n",
      "loss: 2.213569  [48000/50000]\n",
      "Test Error: \n",
      " Accuracy: 33.2%, Avg loss: 1.854005 \n",
      "\n",
      "Epoch 4\n",
      "-------------------------------\n",
      "loss: 1.355169  [    0/50000]\n",
      "loss: 1.243963  [ 4000/50000]\n",
      "loss: 1.726472  [ 8000/50000]\n",
      "loss: 1.876168  [12000/50000]\n",
      "loss: 1.853510  [16000/50000]\n",
      "loss: 1.620304  [20000/50000]\n",
      "loss: 1.763208  [24000/50000]\n",
      "loss: 1.671715  [28000/50000]\n",
      "loss: 2.519915  [32000/50000]\n",
      "loss: 1.135048  [36000/50000]\n",
      "loss: 1.976054  [40000/50000]\n",
      "loss: 1.943329  [44000/50000]\n",
      "loss: 1.919323  [48000/50000]\n",
      "Test Error: \n",
      " Accuracy: 34.5%, Avg loss: 1.801329 \n",
      "\n",
      "Epoch 5\n",
      "-------------------------------\n",
      "loss: 1.926867  [    0/50000]\n",
      "loss: 2.478324  [ 4000/50000]\n",
      "loss: 2.005762  [ 8000/50000]\n",
      "loss: 1.654629  [12000/50000]\n",
      "loss: 1.403097  [16000/50000]\n",
      "loss: 1.524853  [20000/50000]\n",
      "loss: 0.894564  [24000/50000]\n",
      "loss: 1.947074  [28000/50000]\n",
      "loss: 2.335548  [32000/50000]\n",
      "loss: 1.650186  [36000/50000]\n",
      "loss: 2.343135  [40000/50000]\n",
      "loss: 1.696007  [44000/50000]\n",
      "loss: 1.681573  [48000/50000]\n",
      "Test Error: \n",
      " Accuracy: 36.1%, Avg loss: 1.782853 \n",
      "\n",
      "Epoch 6\n",
      "-------------------------------\n",
      "loss: 1.836995  [    0/50000]\n",
      "loss: 1.786396  [ 4000/50000]\n",
      "loss: 1.716908  [ 8000/50000]\n",
      "loss: 2.042753  [12000/50000]\n",
      "loss: 1.539745  [16000/50000]\n",
      "loss: 1.545685  [20000/50000]\n",
      "loss: 1.903950  [24000/50000]\n",
      "loss: 1.855174  [28000/50000]\n",
      "loss: 1.299398  [32000/50000]\n",
      "loss: 1.182298  [36000/50000]\n",
      "loss: 0.915128  [40000/50000]\n",
      "loss: 1.665691  [44000/50000]\n",
      "loss: 1.884161  [48000/50000]\n",
      "Test Error: \n",
      " Accuracy: 37.0%, Avg loss: 1.748090 \n",
      "\n",
      "Epoch 7\n",
      "-------------------------------\n",
      "loss: 1.677817  [    0/50000]\n",
      "loss: 1.926743  [ 4000/50000]\n",
      "loss: 0.990478  [ 8000/50000]\n",
      "loss: 1.774528  [12000/50000]\n",
      "loss: 1.857433  [16000/50000]\n",
      "loss: 1.750299  [20000/50000]\n",
      "loss: 2.380580  [24000/50000]\n",
      "loss: 2.002639  [28000/50000]\n",
      "loss: 2.275343  [32000/50000]\n",
      "loss: 1.498032  [36000/50000]\n",
      "loss: 1.379499  [40000/50000]\n",
      "loss: 2.642525  [44000/50000]\n",
      "loss: 1.862891  [48000/50000]\n",
      "Test Error: \n",
      " Accuracy: 38.7%, Avg loss: 1.715356 \n",
      "\n",
      "Epoch 8\n",
      "-------------------------------\n",
      "loss: 1.276492  [    0/50000]\n",
      "loss: 2.303618  [ 4000/50000]\n",
      "loss: 1.608772  [ 8000/50000]\n",
      "loss: 1.837403  [12000/50000]\n",
      "loss: 1.300033  [16000/50000]\n",
      "loss: 0.739401  [20000/50000]\n",
      "loss: 2.500526  [24000/50000]\n",
      "loss: 1.199116  [28000/50000]\n",
      "loss: 1.439556  [32000/50000]\n",
      "loss: 2.149318  [36000/50000]\n",
      "loss: 1.686028  [40000/50000]\n",
      "loss: 1.660669  [44000/50000]\n",
      "loss: 1.596102  [48000/50000]\n",
      "Test Error: \n",
      " Accuracy: 37.6%, Avg loss: 1.742272 \n",
      "\n",
      "Epoch 9\n",
      "-------------------------------\n",
      "loss: 1.054003  [    0/50000]\n",
      "loss: 1.348103  [ 4000/50000]\n",
      "loss: 1.961236  [ 8000/50000]\n",
      "loss: 1.361232  [12000/50000]\n",
      "loss: 2.111283  [16000/50000]\n",
      "loss: 1.995502  [20000/50000]\n",
      "loss: 1.362173  [24000/50000]\n",
      "loss: 2.024738  [28000/50000]\n",
      "loss: 1.525625  [32000/50000]\n",
      "loss: 1.574604  [36000/50000]\n",
      "loss: 1.571628  [40000/50000]\n",
      "loss: 1.590730  [44000/50000]\n",
      "loss: 2.173471  [48000/50000]\n",
      "Test Error: \n",
      " Accuracy: 37.9%, Avg loss: 1.725280 \n",
      "\n",
      "Epoch 10\n",
      "-------------------------------\n",
      "loss: 1.454076  [    0/50000]\n",
      "loss: 0.647148  [ 4000/50000]\n",
      "loss: 1.402244  [ 8000/50000]\n",
      "loss: 2.002636  [12000/50000]\n",
      "loss: 1.956055  [16000/50000]\n",
      "loss: 1.412370  [20000/50000]\n",
      "loss: 1.279941  [24000/50000]\n",
      "loss: 1.330296  [28000/50000]\n",
      "loss: 0.815499  [32000/50000]\n",
      "loss: 1.478408  [36000/50000]\n",
      "loss: 0.837180  [40000/50000]\n",
      "loss: 2.224396  [44000/50000]\n",
      "loss: 1.594646  [48000/50000]\n",
      "Test Error: \n",
      " Accuracy: 38.9%, Avg loss: 1.716445 \n",
      "\n",
      "Done!\n",
      "10min 5s ± 0 ns per loop (mean ± std. dev. of 1 run, 1 loop each)\n"
     ]
    }
   ],
   "source": [
    "%%timeit -n1 -r1\n",
    "epochs = 10\n",
    "for t in range(epochs):\n",
    "    print(f\"Epoch {t+1}\\n-------------------------------\")\n",
    "    train_loop(trainloader, net, loss_criterion, optimizer, device=device)\n",
    "    test_loop(testloader, net, loss_criterion, device=device)\n",
    "print(\"Done!\")"
   ]
  },
  {
   "cell_type": "code",
   "execution_count": 27,
   "metadata": {},
   "outputs": [],
   "source": [
    "PATH = './cifar_net_100e_epoch-10.pth'\n",
    "torch.save(net.state_dict(), PATH)"
   ]
  },
  {
   "cell_type": "code",
   "execution_count": 36,
   "metadata": {},
   "outputs": [],
   "source": [
    "class Net(nn.Module):\n",
    "    def __init__(self, verbose=0):\n",
    "        super().__init__()\n",
    "        self.conv1 = nn.Conv2d(3, 20, 5)\n",
    "        self.pool1 = nn.MaxPool2d(2, 2)\n",
    "        self.conv2 = nn.Conv2d(20, 16, 5)\n",
    "        self.pool2 = nn.MaxPool2d(2, 2)\n",
    "        self.fc1 = nn.Linear(16 * 5 * 5, 120)\n",
    "        self.fc2 = nn.Linear(120, 84)\n",
    "        self.fc3 = nn.Linear(84, 10)\n",
    "        self.verbose = verbose\n",
    "        \n",
    "    def forward(self, x):\n",
    "        # Note in the forward pass we have 'numbered'\n",
    "        # the x's just to make it easier to collect\n",
    "        # the code to print information about the network\n",
    "        # further on in the code.\n",
    "\n",
    "        # This is very bad code!!\n",
    "\n",
    "        conv1_out = self.conv1(x)\n",
    "        if self.verbose == 1:\n",
    "            print(\"Shape of conv1(x):\", conv1_out.shape)\n",
    "        x1 = self.pool1(F.relu(self.conv1(x)))\n",
    "        if self.verbose == 1:\n",
    "            print(f\"Shape x1: {x1.shape}\")\n",
    "        x2 = self.pool2(F.relu(self.conv2(x1)))\n",
    "        if self.verbose == 1:\n",
    "            print(f\"Shape x2: {x2.shape}\")\n",
    "        x3 = torch.flatten(x2, 1) # flatten all dimensions except batch\n",
    "        if self.verbose == 1:\n",
    "            print(f\"Shape x3: {x3.shape}\")\n",
    "        x4 = F.relu(self.fc1(x3))\n",
    "        if self.verbose == 1:\n",
    "            print(f\"Shape x4: {x4.shape}\")\n",
    "        x5 = F.relu(self.fc2(x4))\n",
    "        if self.verbose == 1:\n",
    "            print(f\"Shape x5: {x5.shape}\")\n",
    "        x6 = self.fc3(x5)\n",
    "        if self.verbose == 1:\n",
    "            print(f\"Shape x6: {x6.shape}\")\n",
    "        self.conv1 = nn.Conv2d(3, 20, 5)\n",
    "        if self.verbose == 1:\n",
    "            print(self.conv1)\n",
    "\n",
    "        if self.verbose == 1:\n",
    "            # Write the code to print the shapes of the \n",
    "            # different stages in the CNN\n",
    "            # YOUR CODE HERE (Replace this and the following line with your code)\n",
    "            self.verbose -= 1\n",
    "        \n",
    "        return x6\n",
    "\n",
    "# with verbose=1 the 'debugging' code is printed only once \n",
    "# while running the forward pass multiple times.\n",
    "net = Net(verbose=0).to(device=device)"
   ]
  },
  {
   "cell_type": "code",
   "execution_count": 37,
   "metadata": {},
   "outputs": [
    {
     "name": "stdout",
     "output_type": "stream",
     "text": [
      "Epoch 1\n",
      "-------------------------------\n",
      "loss: 2.305791  [    0/50000]\n",
      "loss: 2.303194  [ 4000/50000]\n",
      "loss: 2.304226  [ 8000/50000]\n",
      "loss: 2.339684  [12000/50000]\n",
      "loss: 2.274350  [16000/50000]\n",
      "loss: 2.363783  [20000/50000]\n",
      "loss: 2.315879  [24000/50000]\n",
      "loss: 2.347579  [28000/50000]\n",
      "loss: 2.317857  [32000/50000]\n",
      "loss: 2.286231  [36000/50000]\n",
      "loss: 2.254052  [40000/50000]\n",
      "loss: 2.361178  [44000/50000]\n",
      "loss: 2.363640  [48000/50000]\n",
      "Test Error: \n",
      " Accuracy: 9.7%, Avg loss: 2.306136 \n",
      "\n",
      "Epoch 2\n",
      "-------------------------------\n",
      "loss: 2.309299  [    0/50000]\n",
      "loss: 2.341513  [ 4000/50000]\n",
      "loss: 2.343765  [ 8000/50000]\n",
      "loss: 2.350560  [12000/50000]\n",
      "loss: 2.346117  [16000/50000]\n",
      "loss: 2.336022  [20000/50000]\n",
      "loss: 2.326306  [24000/50000]\n",
      "loss: 2.360272  [28000/50000]\n",
      "loss: 2.319454  [32000/50000]\n",
      "loss: 2.292853  [36000/50000]\n",
      "loss: 2.297202  [40000/50000]\n",
      "loss: 2.312392  [44000/50000]\n",
      "loss: 2.386729  [48000/50000]\n",
      "Test Error: \n",
      " Accuracy: 9.6%, Avg loss: 2.306272 \n",
      "\n",
      "Done!\n",
      "2min 25s ± 0 ns per loop (mean ± std. dev. of 1 run, 1 loop each)\n"
     ]
    }
   ],
   "source": [
    "%%timeit -n1 -r1\n",
    "epochs = 2\n",
    "for t in range(epochs):\n",
    "    print(f\"Epoch {t+1}\\n-------------------------------\")\n",
    "    train_loop(trainloader, net, loss_criterion, optimizer, device=device)\n",
    "    test_loop(testloader, net, loss_criterion, device=device)\n",
    "print(\"Done!\")"
   ]
  },
  {
   "cell_type": "code",
   "execution_count": 38,
   "metadata": {},
   "outputs": [],
   "source": [
    "PATH = './cifar_net_100e_channels-20.pth'\n",
    "torch.save(net.state_dict(), PATH)"
   ]
  },
  {
   "cell_type": "code",
   "execution_count": 40,
   "metadata": {},
   "outputs": [],
   "source": [
    "class Net(nn.Module):\n",
    "    def __init__(self, verbose=0):\n",
    "        super().__init__()\n",
    "        self.conv1 = nn.Conv2d(3, 10, 3)\n",
    "        self.pool1 = nn.MaxPool2d(2, 2)\n",
    "        self.conv2 = nn.Conv2d(10, 16, 5)\n",
    "        self.pool2 = nn.MaxPool2d(2, 2)\n",
    "        self.fc1 = nn.Linear(16 * 5 * 5, 120)\n",
    "        self.fc2 = nn.Linear(120, 84)\n",
    "        self.fc3 = nn.Linear(84, 10)\n",
    "        self.verbose = verbose\n",
    "        \n",
    "    def forward(self, x):\n",
    "        # Note in the forward pass we have 'numbered'\n",
    "        # the x's just to make it easier to collect\n",
    "        # the code to print information about the network\n",
    "        # further on in the code.\n",
    "\n",
    "        # This is very bad code!!\n",
    "\n",
    "        conv1_out = self.conv1(x)\n",
    "        if self.verbose == 1:\n",
    "            print(\"Shape of conv1(x):\", conv1_out.shape)\n",
    "        x1 = self.pool1(F.relu(self.conv1(x)))\n",
    "        if self.verbose == 1:\n",
    "            print(f\"Shape x1: {x1.shape}\")\n",
    "        x2 = self.pool2(F.relu(self.conv2(x1)))\n",
    "        if self.verbose == 1:\n",
    "            print(f\"Shape x2: {x2.shape}\")\n",
    "        x3 = torch.flatten(x2, 1) # flatten all dimensions except batch\n",
    "        if self.verbose == 1:\n",
    "            print(f\"Shape x3: {x3.shape}\")\n",
    "        x4 = F.relu(self.fc1(x3))\n",
    "        if self.verbose == 1:\n",
    "            print(f\"Shape x4: {x4.shape}\")\n",
    "        x5 = F.relu(self.fc2(x4))\n",
    "        if self.verbose == 1:\n",
    "            print(f\"Shape x5: {x5.shape}\")\n",
    "        x6 = self.fc3(x5)\n",
    "        if self.verbose == 1:\n",
    "            print(f\"Shape x6: {x6.shape}\")\n",
    "        self.conv1 = nn.Conv2d(3, 10, 3)\n",
    "        if self.verbose == 1:\n",
    "            print(self.conv1)\n",
    "\n",
    "        if self.verbose == 1:\n",
    "            # Write the code to print the shapes of the \n",
    "            # different stages in the CNN\n",
    "            # YOUR CODE HERE (Replace this and the following line with your code)\n",
    "            self.verbose -= 1\n",
    "        \n",
    "        return x6\n",
    "\n",
    "# with verbose=1 the 'debugging' code is printed only once \n",
    "# while running the forward pass multiple times.\n",
    "net = Net(verbose=0).to(device=device)"
   ]
  },
  {
   "cell_type": "code",
   "execution_count": 41,
   "metadata": {},
   "outputs": [
    {
     "name": "stdout",
     "output_type": "stream",
     "text": [
      "Epoch 1\n",
      "-------------------------------\n",
      "loss: 2.321242  [    0/50000]\n",
      "loss: 2.314733  [ 4000/50000]\n",
      "loss: 2.294039  [ 8000/50000]\n",
      "loss: 2.299148  [12000/50000]\n",
      "loss: 2.282657  [16000/50000]\n",
      "loss: 2.268319  [20000/50000]\n",
      "loss: 2.298590  [24000/50000]\n",
      "loss: 2.310515  [28000/50000]\n",
      "loss: 2.302305  [32000/50000]\n",
      "loss: 2.318096  [36000/50000]\n",
      "loss: 2.338607  [40000/50000]\n",
      "loss: 2.353184  [44000/50000]\n",
      "loss: 2.293826  [48000/50000]\n",
      "Test Error: \n",
      " Accuracy: 10.2%, Avg loss: 2.304593 \n",
      "\n",
      "Epoch 2\n",
      "-------------------------------\n",
      "loss: 2.324961  [    0/50000]\n",
      "loss: 2.281525  [ 4000/50000]\n",
      "loss: 2.328876  [ 8000/50000]\n",
      "loss: 2.313206  [12000/50000]\n",
      "loss: 2.313349  [16000/50000]\n",
      "loss: 2.310118  [20000/50000]\n",
      "loss: 2.332137  [24000/50000]\n",
      "loss: 2.361635  [28000/50000]\n",
      "loss: 2.318473  [32000/50000]\n",
      "loss: 2.288047  [36000/50000]\n",
      "loss: 2.266265  [40000/50000]\n",
      "loss: 2.310232  [44000/50000]\n",
      "loss: 2.313505  [48000/50000]\n",
      "Test Error: \n",
      " Accuracy: 10.2%, Avg loss: 2.304529 \n",
      "\n",
      "Done!\n",
      "2min 4s ± 0 ns per loop (mean ± std. dev. of 1 run, 1 loop each)\n"
     ]
    }
   ],
   "source": [
    "%%timeit -n1 -r1\n",
    "epochs = 2\n",
    "for t in range(epochs):\n",
    "    print(f\"Epoch {t+1}\\n-------------------------------\")\n",
    "    train_loop(trainloader, net, loss_criterion, optimizer, device=device)\n",
    "    test_loop(testloader, net, loss_criterion, device=device)\n",
    "print(\"Done!\")"
   ]
  },
  {
   "cell_type": "code",
   "execution_count": null,
   "metadata": {},
   "outputs": [],
   "source": [
    "PATH = './cifar_net_100e_kernel-3.pth'\n",
    "torch.save(net.state_dict(), PATH)"
   ]
  },
  {
   "cell_type": "markdown",
   "metadata": {},
   "source": [
    "<span style=\"color:red\">**Question 5.1**</span>\n",
    "\n",
    "1. The obvious way to start improving your network is by training for more epochs. Only 2 epochs is really not much (but you need a fast computer or a GPU or a lot of patience). But you should be able to increase the number of epochs from 2 to 10 when you run the learning at night. What do you observe?\n",
    "\n",
    "1. Change the number of channels in the first data (image) block after the input image (a block with 3 channels) from 10 to 20 and train and run the network again. Does it improve the performance? Again start with 2 epochs of learning.\n",
    "\n",
    "1. Change the size of the convolution kernels in the `conv1` module from 5 to 3. Again start with 2 epochs of learning. What happens to the shapes of all blocks in the network?"
   ]
  },
  {
   "cell_type": "markdown",
   "metadata": {},
   "source": [
    "REPORT YOUR RESULTS HERE"
   ]
  },
  {
   "cell_type": "markdown",
   "metadata": {},
   "source": [
    "## Bonus Exercise"
   ]
  },
  {
   "cell_type": "markdown",
   "metadata": {},
   "source": [
    "When you can learn faster or have a faster machine or have more time you could learn for a lot of epochs (say 100) and then plot the loss and accuracy for both the train and test set as a function of the number of epochs. That may provide you with evidence that the network is overfitting and thus that some regularization techniques might be needed. This is suggested by the webpages describing learning for the same dataset but then implemented in Keras/Tensorflow (see https://machinelearningmastery.com/how-to-develop-a-cnn-from-scratch-for-cifar-10-photo-classification/). There the loss and accuracy as function of the number of epochs is shown as (in yellow the testset scores and in blue the trainset scores):\n",
    "<img src=\"cifar_overfitting.png\"\n",
    "     width=50%\n",
    "     alt=\"data flow graph\"\n",
    "     style=\"float: center;\" />\n",
    "     \n",
    "The network used was very much like the one that has been used in this lab.\n",
    "\n",
    "- In the above mentioned paper, using `DropOut` the problem of overfitting was succesfully mitigated. Try to implement such DropOut using pytorch to mitigate the problem of overfitting."
   ]
  },
  {
   "cell_type": "markdown",
   "metadata": {},
   "source": []
  }
 ],
 "metadata": {
  "kernelspec": {
   "display_name": "Python 3",
   "language": "python",
   "name": "python3"
  },
  "language_info": {
   "codemirror_mode": {
    "name": "ipython",
    "version": 3
   },
   "file_extension": ".py",
   "mimetype": "text/x-python",
   "name": "python",
   "nbconvert_exporter": "python",
   "pygments_lexer": "ipython3",
   "version": "3.11.8"
  },
  "latex_envs": {
   "LaTeX_envs_menu_present": true,
   "autoclose": false,
   "autocomplete": true,
   "bibliofile": "biblio.bib",
   "cite_by": "apalike",
   "current_citInitial": 1,
   "eqLabelWithNumbers": true,
   "eqNumInitial": 1,
   "hotkeys": {
    "equation": "Ctrl-E",
    "itemize": "Ctrl-I"
   },
   "labels_anchors": false,
   "latex_user_defs": false,
   "report_style_numbering": true,
   "user_envs_cfg": false
  },
  "toc": {
   "base_numbering": 1,
   "nav_menu": {},
   "number_sections": true,
   "sideBar": true,
   "skip_h1_title": true,
   "title_cell": "Table of Contents",
   "title_sidebar": "Contents",
   "toc_cell": true,
   "toc_position": {},
   "toc_section_display": true,
   "toc_window_display": true
  }
 },
 "nbformat": 4,
 "nbformat_minor": 4
}
