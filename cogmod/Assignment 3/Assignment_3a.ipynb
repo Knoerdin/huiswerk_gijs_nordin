{
 "cells": [
  {
   "cell_type": "markdown",
   "metadata": {},
   "source": [
    "# Assignment 3a Cognitive Modelling\n",
    "\n",
    "Dit is onderdeel van de derde opdracht voor Cognitive Modelling, assignment 3 bestaat in totaal uit 3 onderdelen:\n",
    "\n",
    "* __Assignment 3a (47 punten)__\n",
    "* Assignment 3b (19 punten)\n",
    "* Assignment 3c (23 punten)\n",
    "\n",
    "__Let op__: Opdracht 3b en 3c werken alleen in Google Colab!\n",
    "\n",
    "Geef antwoorden in blokken met code of met tekst.Gebruik voor antwoorden met tekst de \">\" voor blockquotes en geef bij elke vraag ook __kort uitleg__ als hier om wordt gevraagd. __Let op__: soms staan er meerdere vragen bij een onderdeel, lees de tekst dus nauwkeurig. \n",
    "\n",
    "Sla het uiteindelijke notebook op met jullie studentnummers en achternamen in de filenaam: `studentnummer1_achternaam1_studentnummer2_achternaam2_opdrachtnummer`."
   ]
  },
  {
   "cell_type": "markdown",
   "metadata": {},
   "source": [
    "<br>\n",
    "\n",
    "---\n",
    "\n",
    "## Q-Learning:  State Spaces and Deep Q Networks\n",
    "\n",
    "In de vorige opdrachten hebben we gekeken naar simpele taken waarbij de state space bekend was en de mogelijke acties ook. Vaak zijn omgevingen echter onbekend of een stuk ingewikkelder. We beginnen nu bij een kleine omgeving die verkend moet worden, maar die nog wel in een Q-table te vangen is. Let op dat steeds hierbij alle mogelijke handelingen wel duidelijk zijn, het is maar de vraag of dit voor biologische systemen ook het geval is.\n",
    "\n",
    "We gaan ook kijken hoe we het klassieke Q-Learning (wat dus is gebaseerd op het Rescorla Wagner model) kunnen uitbreiden met functies die gebaseerd zijn op de werking van menselijke hersenen.\n",
    "\n",
    "Uiteindelijk maken we een klein uitstapje naar Deep Q Networks: de huidige state-of-the-art methode in Reinforcement Learning, waar het basis Q-Learning idee wordt gecombineerd met dat van Deep Neural Nets, met name ConvNets. Aan het eind van deze opdracht moet je een goed idee hebben hoe deze Deep Q Nets werken, en ook begrijpen hoe je deze netwerken mogelijk kan aanpassen en ze slimmer te maken."
   ]
  },
  {
   "cell_type": "markdown",
   "metadata": {},
   "source": [
    "#### Winter is coming\n",
    "\n",
    "Het is winter. Jij en je robotvriend waren in het park met een frisbee aan het spelen toen jij een wilde worp deed waardoor de frisbee midden op het meer terecht kwam. Het water is grotendeels goed bevroren, maar er zijn een paar zwakke plekken waar je door het ijs zakt en in het ijskoude water valt. <br>\n",
    "\n",
    "![](Images\\lake.png) <br>\n",
    "\n",
    "Op dit moment is er een internationaal frisbeetekort, dus het is absoluut noodzakelijk dat je over het meer navigeert en de frisbee terughaalt. Omdat je zelf niet nat wilt worden, stuur je je robot om de frisbee te halen. Het oppervlak wordt beschreven met behulp van deze matrix:\n",
    "    \n",
    "        State:        State #:\n",
    "        S F F F     0  1  2  3\n",
    "        F H F H     4  5  6  7 \n",
    "        F F F H     8  9  10 11 \n",
    "        H F F G     12 13 14 15 \n",
    "        \n",
    "    S : start punt, safe\n",
    "    F : bevroren surface, safe\n",
    "    H : zwak ijs, val in het water (einde robot)\n",
    "    G : Doel, de frisbee\n",
    "\n",
    "Dit is de Frozenlake omgeving, een spel van de Open AI Gym. Dit spel wordt gebruikt als een soort benchmark om verschillende leeralgoritmes (vooral Q-learning) met elkaar te vergelijken. In deze Gym kan je nog veel meer leuke dingen vinden, en voor deze opdracht is het nodig om de gym library installeren.\n",
    "\n",
    "`!pip install gymnasium` zou genoeg moeten zijn, kijk anders even op https://pypi.org/project/gymnasium/\n",
    "\n",
    "Daarnaast gebruikt de gym ook nog wat elementen van `pygame` dus installeer dat ook:\n",
    "\n",
    "`!pip install pygame`  of kijk op https://www.pygame.org/wiki/GettingStarted "
   ]
  },
  {
   "cell_type": "code",
<<<<<<< HEAD
   "execution_count": null,
=======
   "execution_count": 2,
>>>>>>> d9cf4da (merge conflict)
   "metadata": {},
   "outputs": [],
   "source": [
    "# !pip install gymnasium"
   ]
  },
  {
   "cell_type": "code",
<<<<<<< HEAD
   "execution_count": null,
=======
   "execution_count": 3,
>>>>>>> d9cf4da (merge conflict)
   "metadata": {},
   "outputs": [],
   "source": [
    "# !pip install pygame"
   ]
  },
  {
   "cell_type": "code",
<<<<<<< HEAD
   "execution_count": null,
=======
   "execution_count": 4,
>>>>>>> d9cf4da (merge conflict)
   "metadata": {
    "scrolled": true
   },
   "outputs": [],
   "source": [
    "# init gym and other libraries\n",
    "import gymnasium as gym\n",
    "import pygame\n",
    "import math\n",
    "import numpy as np\n",
    "import random\n",
    "\n",
    "%matplotlib inline\n",
    "import matplotlib.pyplot as plt"
   ]
  },
  {
   "cell_type": "markdown",
   "metadata": {},
   "source": [
    "#### Loading the environment"
   ]
  },
  {
   "cell_type": "code",
<<<<<<< HEAD
   "execution_count": null,
=======
   "execution_count": 5,
>>>>>>> d9cf4da (merge conflict)
   "metadata": {},
   "outputs": [],
   "source": [
    "# We laden nu een 4x4 Frozen Lake. Slippery betekent dat de robot soms uitglijdt en een random kant op beweegt\n",
    "# We start with non slippery ice 🤔\n",
    "env_4x4 = gym.make(\"FrozenLake-v1\", desc=None, map_name=\"4x4\", is_slippery=False)"
   ]
  },
  {
   "cell_type": "markdown",
   "metadata": {},
   "source": [
    "<br>\n",
    "\n",
    "---\n",
    "\n",
    "## 1. Q-Table learning\n",
    "\n",
    "Het is jouw taak om de robot te leren veilig van start $S$ naar het doel $G$ te lopen door middel van Q learning. Daarmee voorkom je dat de robot in een wak valt.\n",
    "\n",
    "Details over Q-learning zijn terug te vinden in de college slides en in het hoofdstuk van Gureckis & Love [**Computational reinforcement learning**](http://bradlove.org/papers/GureckisLovePress.pdf), voor meer verdieping in het online boek van [**Sutton & Barto**](http://incompleteideas.net/book/bookdraft2018jan1.pdf) en dan met name hoofdstuk 6.\n",
    "\n",
    "\n",
    "**Let op:** In dit experiment zijn meerdere states. Dit heeft als gevolg dat bij het leren rekening gehouden moet worden met de actie die in een volgende state gemaakt wordt. We gaan er vanuit dat de robot altijd de actie kiest met de hoogste Q-value. De prediction error wordt dus:\n",
    "\n",
    "$$\\delta = r_{t+1} + \\gamma\\ max_a\\ Q(s_{t+1} , a) − Q(s_t , a_t)$$\n",
    "\n",
    "Waarbij de Q-value update nog steeds is gedefinieerd als:\n",
    "\n",
    "$$Q(s_{t+1}, a_{t+1}) = Q(s_t, a_t) + \\alpha \\delta$$\n",
    "\n",
    "In het begin van het experiment heeft de robot geen enkele kennis van de wereld en geen enkele verwachtingen voor het krijgen van beloningen. Voor elke actie ($L$: left, $R$: right, $U$: up, $D$: down) op elk vlak van de omgeving geldt dus:\n",
    "\n",
    "$$Q(s, L) = Q(s, R) = Q(s, U) = Q(s, D) = 0$$"
   ]
  },
  {
   "cell_type": "markdown",
   "metadata": {},
   "source": [
    "### Q1.a (8 punten)\n",
    "\n",
    "Schrijf een functie `q_learn` die als input `env` (*Gymnasium* environment), `alpha` ($\\alpha$), `gamma` ($\\gamma$), `epsilon` ($\\epsilon$), `epsilon_decay` en `num_episodes` accepteert.\n",
    "\n",
    "De output van deze functie moet een table zijn met $Q$ waarden voor elke state en elke actie. Er zijn 16 states en 4 acties dus in totaal 64 combinaties. Voor de analyse van het algoritme is het ook belangrijk een lijst met totaal verdiende beloningen en de totale hoeveelheid stappen per episode als output te hebben. \n",
    "\n",
    "We gaan er nu vanuit dat de robot de $\\epsilon$-greedy keuze regel toepast, waarbij $\\epsilon$ afneemt met tijd. \n",
    "\n",
    "Hier alvast wat code om je op weg te helpen: \n",
    "\n",
    "```python\n",
    "def q_learn(\n",
    "    env: gym.Env,\n",
    "    alpha: float = 0.8,\n",
    "    gamma: float = 0.95,\n",
    "    epsilon: float = 0.1,\n",
    "    epsilon_decay: float = 0.999,\n",
    "    num_episodes: int = 2000,\n",
    "):\n",
    "    # Initialize Q-table with all zeros\n",
    "    n_states = env.observation_space.n\n",
    "    n_actions = env.action_space.n\n",
    "    q_vals = np.zeros((n_states, n_actions))\n",
    "\n",
    "    # Create arrays to contain total rewards and steps taken per episode\n",
    "    total_rewards = np.zeros(num_episodes)\n",
    "    num_steps = np.zeros(num_episodes, dtype=np.int32)\n",
    "\n",
    "    # Start learning:\n",
    "    for i in range(num_episodes):\n",
    "        state, _ = env.reset()  # `state` is an integer, see the state numbers above\n",
    "        episode_reward = 0  # Total rewards for this episode start at 0\n",
    "\n",
    "        # The Q-Table learning algorithm, each episode consists of several learning trials.\n",
    "        # If we reach the max of 100 trials (or steps), we start over.\n",
    "        steps_elapsed = 0\n",
    "        for steps_elapsed in range(1, 100):\n",
    "            # First, implement the e-greedy to choose an action: if random.random() < epsilon: explore, else: exploit\n",
    "            # As in previous assignments, draw randomly between maxima when there is more than one max Q\n",
    "\n",
    "            # NOTE: actions in FrozenLake are defined as 0:left, 1:down, 2:right, 3:up\n",
    "            a = ...  # TODO\n",
    "\n",
    "            # Update the environment using env.step(0/1/2/3)\n",
    "            # `done` is a boolean indicating whether next_state is a terminal state\n",
    "            next_state, reward, done, _, _ = env.step(a)\n",
    "\n",
    "            # Update Q-Table with new knowledge (assume you pick the action with the highest value in new state)\n",
    "            q_vals[state, a] = ...  # TODO\n",
    "\n",
    "            episode_reward += reward\n",
    "\n",
    "            # TODO: If Frisbee or hole (`done`) then end trial\n",
    "\n",
    "            state = next_state\n",
    "\n",
    "        # Update `epsilon`, reducing exploration over episodes\n",
    "        epsilon *= epsilon_decay\n",
    "\n",
    "        num_steps[i] = steps_elapsed\n",
    "        total_rewards[i] = episode_reward\n",
    "\n",
    "    return total_rewards, num_steps, q_vals\n",
    "```\n",
    "\n",
    "De ingevoerde hyperparameters werken goed maar voel je vrij om hier mee te experimenteren. \n"
   ]
  },
  {
   "cell_type": "code",
<<<<<<< HEAD
   "execution_count": null,
   "metadata": {},
   "outputs": [],
   "source": [
    "# TO DO"
=======
   "execution_count": 20,
   "metadata": {},
   "outputs": [],
   "source": [
    "# TO DO\n",
    "def q_learn(\n",
    "    env: gym.Env,\n",
    "    alpha: float = 0.8,\n",
    "    gamma: float = 0.95,\n",
    "    epsilon: float = 0.1,\n",
    "    epsilon_decay: float = 0.999,\n",
    "    num_episodes: int = 2000,\n",
    "):\n",
    "    # Initialize Q-table with all zeros\n",
    "    n_states = env.observation_space.n\n",
    "    n_actions = env.action_space.n\n",
    "    q_vals = np.zeros((n_states, n_actions))\n",
    "\n",
    "    # Create arrays to contain total rewards and steps taken per episode\n",
    "    total_rewards = np.zeros(num_episodes)\n",
    "    num_steps = np.zeros(num_episodes, dtype=np.int32)\n",
    "\n",
    "    # Start learning:\n",
    "    for i in range(num_episodes):\n",
    "        state, _ = env.reset()  # `state` is an integer, see the state numbers above\n",
    "        episode_reward = 0  # Total rewards for this episode start at 0\n",
    "\n",
    "        # The Q-Table learning algorithm, each episode consists of several learning trials.\n",
    "        # If we reach the max of 100 trials (or steps), we start over.\n",
    "        steps_elapsed = 0\n",
    "        for steps_elapsed in range(1, 100):\n",
    "            # First, implement the e-greedy to choose an action: if random.random() < epsilon: explore, else: exploit\n",
    "            # As in previous assignments, draw randomly between maxima when there is more than one max Q\n",
    "            if random.random() < epsilon:\n",
    "                # Exploration: choose a random action\n",
    "                a = random.randint(0, n_actions - 1)\n",
    "            # NOTE: actions in FrozenLake are defined as 0:left, 1:down, 2:right, 3:up\n",
    "            else:\n",
    "                # Exploitation: choose the action with the highest Q-value for the current state\n",
    "                q_max = np.max(q_vals[state])\n",
    "                max_actions = np.where(q_vals[state] == q_max)[0]\n",
    "                a = random.choice(max_actions)\n",
    "\n",
    "            # Update the environment using env.step(0/1/2/3)\n",
    "            # `done` is a boolean indicating whether next_state is a terminal state\n",
    "            next_state, reward, done, _, _ = env.step(a)\n",
    "\n",
    "            # Update Q-Table with new knowledge (assume you pick the action with the highest value in new state)\n",
    "            q_vals[state, a] = q_vals[state, a] + alpha * (\n",
    "                reward\n",
    "                + gamma * np.max(q_vals[next_state]) - q_vals[state, a]\n",
    "            )\n",
    "\n",
    "            episode_reward += reward\n",
    "\n",
    "            # TODO: If Frisbee or hole (`done`) then end trial\n",
    "            if done:\n",
    "                break\n",
    "            \n",
    "            state = next_state\n",
    "\n",
    "        # Update `epsilon`, reducing exploration over episodes\n",
    "        epsilon *= epsilon_decay\n",
    "\n",
    "        num_steps[i] = steps_elapsed\n",
    "        total_rewards[i] = episode_reward\n",
    "\n",
    "    return total_rewards, num_steps, q_vals"
>>>>>>> d9cf4da (merge conflict)
   ]
  },
  {
   "cell_type": "markdown",
   "metadata": {},
   "source": [
    "<br>\n",
    "\n",
    "### Q1.b   (5 punten)     \n",
    "\n",
    "Laat de robot met behulp van deze functie 1000 episodes leren over deze wereld (1 leer episode bestaat dus uit max 100 trials). Bereken de gemiddelde score over alle episodes (heel soms komt dit model niet op de oplossing, run het dan nog eens)."
   ]
  },
  {
   "cell_type": "code",
<<<<<<< HEAD
   "execution_count": null,
   "metadata": {},
   "outputs": [],
   "source": [
    "# TO DO"
=======
   "execution_count": 22,
   "metadata": {},
   "outputs": [
    {
     "data": {
      "image/png": "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",
      "text/plain": [
       "<Figure size 1000x800 with 2 Axes>"
      ]
     },
     "metadata": {},
     "output_type": "display_data"
    }
   ],
   "source": [
    "# TO DO\n",
    "def plot_results(total_rewards, num_steps):\n",
    "    fig, axs = plt.subplots(2, 1, figsize=(10, 8))\n",
    "    fig.suptitle(\"Q-learning results\")\n",
    "\n",
    "    # Plot total rewards\n",
    "    axs[0].plot(total_rewards)\n",
    "    axs[0].set_title(\"Total Rewards per Episode\")\n",
    "    axs[0].set_xlabel(\"Episode\")\n",
    "    axs[0].set_ylabel(\"Total Reward\")\n",
    "\n",
    "    # Plot number of steps\n",
    "    axs[1].plot(num_steps)\n",
    "    axs[1].set_title(\"Number of Steps per Episode\")\n",
    "    axs[1].set_xlabel(\"Episode\")\n",
    "    axs[1].set_ylabel(\"Number of Steps\")\n",
    "\n",
    "    plt.tight_layout()\n",
    "    plt.show()\n",
    "\n",
    "rewards, steps, q_vals = q_learn(env_4x4, num_episodes=1000)\n",
    "plot_results(rewards, steps)"
>>>>>>> d9cf4da (merge conflict)
   ]
  },
  {
   "cell_type": "markdown",
   "metadata": {},
   "source": [
    "* Plot nu in bins van 10 episodes de verandering in gemiddelde beloning over tijd. Waar ligt het omslag punt?\n",
    "\n",
    "Voor het plotten is het handig om onderstaande code te gebruiken.\n",
    "\n",
    "```python\n",
    "width = 10   # Width is de grote van elke bin\n",
    "# Hier knippen we de laatste elementen (total_rewards.size % width) van de lijst\n",
    "# Dan reshapen we naar een matrix van X * width en nemen we de mean over de width axis\n",
    "# Hiermee krijgen we dus de gemiddelde beloning voor width episodes\n",
    "result1 = total_rewards[:(total_rewards.size // width * width)].reshape(-1, width).mean(axis=1)\n",
    "plt.plot(result1, label=...)\n",
    "```"
   ]
  },
  {
   "cell_type": "code",
<<<<<<< HEAD
   "execution_count": null,
=======
   "execution_count": 8,
>>>>>>> d9cf4da (merge conflict)
   "metadata": {},
   "outputs": [],
   "source": [
    "# TO DO"
   ]
  },
  {
   "cell_type": "markdown",
   "metadata": {},
   "source": [
    "> *Antwoord*"
   ]
  },
  {
   "cell_type": "markdown",
   "metadata": {},
   "source": [
    "* Plot ook de gemiddelde hoeveelheid stappen die er gemaakt zijn in bins van 10. Hoe kort is de korste route tot succes waar het model op uitkomt? Hoe verhoudt dit zich tot de werkelijke korste route?"
   ]
  },
  {
   "cell_type": "code",
<<<<<<< HEAD
   "execution_count": null,
=======
   "execution_count": 9,
>>>>>>> d9cf4da (merge conflict)
   "metadata": {},
   "outputs": [],
   "source": [
    "# TO DO"
   ]
  },
  {
   "cell_type": "markdown",
   "metadata": {},
   "source": [
    "> *Antwoord*"
   ]
  },
  {
   "cell_type": "markdown",
   "metadata": {},
   "source": [
    "<br> \n",
    "\n",
    "### Q1.c (2 punten)\n",
    "\n",
    "Laten we nu naar de $Q$ tables gaan kijken. Zo kunnen we inspecteren welke route de robot zou lopen als deze altijd de max $Q$ zou kiezen (dus puur greedy, $\\epsilon$ = 0).\n",
    "\n",
    "Gebruik de final $Q$ table die `q_learn()` aan het eind geeft. Hierbij is elke rij een state, met de vier acties die mogelijk zijn. Dus `output[2][9,:]` geeft de Q values van de vier acties die je kan doen in state 9. \n",
    "\n",
    "Zorg dat je een lijst krijgt ('Qmax') met voor elke state de actie die de hoogste Q value heeft. Representeer hier elke actie met een getal (0 = links, 1 = beneden, 2 = rechts, 3 = boven). Plot vervolgens deze lijst in een grid: \n",
    "\n",
    "```python\n",
    "print(\"0=links, 1=beneden, 2=rechts, 3=boven\")\n",
    "Qmax=np.asarray(Qmax).reshape((4,4))\n",
    "print(Qmax)\n",
    "\n",
    "```\n",
    "\n",
    "* Ga nu na hoe de robot loopt, gaat deze links of rechts langs het wak linksboven op de kaart?"
   ]
  },
  {
   "cell_type": "code",
<<<<<<< HEAD
   "execution_count": null,
=======
   "execution_count": 10,
>>>>>>> d9cf4da (merge conflict)
   "metadata": {},
   "outputs": [],
   "source": [
    "# TO DO"
   ]
  },
  {
   "cell_type": "markdown",
   "metadata": {},
   "source": [
    "> *Antwoord*"
   ]
  },
  {
   "cell_type": "markdown",
   "metadata": {},
   "source": [
    "<br>\n",
    "\n",
    "---\n",
    "\n",
    "## 2. Changes in the environment\n",
    "\n",
    "We kijken nu naar hoe de robot zich op glad ijs beweegt. In deze omgeving zal hij dus af en toe een willekeurige kant op schuiven. Laad de omgeving opnieuw met `is_slippery = True`. Deze omgeving is als trainingsomgeving bedacht omdat er vaak ruis (noise) zit in de omgeving (of in perceptie zelf) en soms dingen dus net anders lopen dan verwacht. Een robust algortime kan hier dan ook mee leren omgaan. \n",
    "\n",
    "Het gebruiken van een algoritme dat in een simulatie van een perfecte wereld is getest, zoals hierboven, kan tot catastrofale uitkomsten leiden in de echte wereld (waarbij de weg ineens glad kan zijn of er een sterke storm opsteekt, er is altijd wel iets onvoorzien)."
   ]
  },
  {
   "cell_type": "code",
<<<<<<< HEAD
   "execution_count": null,
=======
   "execution_count": 11,
>>>>>>> d9cf4da (merge conflict)
   "metadata": {},
   "outputs": [],
   "source": [
    "# let's load the Frozen lake environment\n",
    "# slippery means that sometimes the robot will slip on the ice and move in a random direction\n",
    "env_slip = gym.make(\"FrozenLake-v1\", map_name=\"4x4\", is_slippery=True)"
   ]
  },
  {
   "cell_type": "markdown",
   "metadata": {},
   "source": [
    "<br>\n",
    "\n",
    "### Q2.a (5 punten)\n",
    "Run hetzelfde `q_learn` algoritme met dezelfde parameterwaardes als hierboven. \n",
    "* Laat de gemiddelde score zien, en hoe de gemiddelde beloning en het aantal stappen met de tijd verandert. \n",
    "* Vergelijk dit met de non-slippery omgeving van hiervoor, noem de meest opvallende verschillen en leg uit waarom we die zien. "
   ]
  },
  {
   "cell_type": "code",
<<<<<<< HEAD
   "execution_count": null,
=======
   "execution_count": 12,
>>>>>>> d9cf4da (merge conflict)
   "metadata": {},
   "outputs": [],
   "source": [
    "# TO DO"
   ]
  },
  {
   "cell_type": "markdown",
   "metadata": {},
   "source": [
    "> *Antwoord*"
   ]
  },
  {
   "cell_type": "markdown",
   "metadata": {},
   "source": [
    "### Loading the 8x8 environment\n",
    "\n",
    "We gaat het nu wat moeilijker maken en maken het bevroren meer wat groter. Laad nu het **niet gladde** grotere ijsmeer in:\n",
    "```python\n",
    "env = gym.make('FrozenLake-v1',map_name=\"8x8\",is_slippery=False)\n",
    "```"
   ]
  },
  {
   "cell_type": "code",
<<<<<<< HEAD
   "execution_count": null,
=======
   "execution_count": 13,
>>>>>>> d9cf4da (merge conflict)
   "metadata": {},
   "outputs": [],
   "source": [
    "# let's load the Frozen lake environment\n",
    "env_8x8 = gym.make(\"FrozenLake-v1\", map_name=\"8x8\", is_slippery=False)"
   ]
  },
  {
   "cell_type": "markdown",
   "metadata": {},
   "source": [
    "### Q2.b (4 punten)\n",
    "Het nieuwe meer is 8x8 maar verder helemaal hezelfde. We kunnen dan ook weer hetzelfde `q_learn()` hier op los laten. Doe dit, met weer dezelfde parameterwaardes als je eerder bij de 4x4 hebt gebruikt. \n",
    "* Rapporteer wederom hoe goed de robot het doet in termen van verkregen beloningen en aantal stappen genomen. \n",
    "* Zie je ook een omslag punt? (probeer een paar keer als het model niet lijkt te leren)"
   ]
  },
  {
   "cell_type": "code",
<<<<<<< HEAD
   "execution_count": null,
=======
   "execution_count": 14,
>>>>>>> d9cf4da (merge conflict)
   "metadata": {},
   "outputs": [],
   "source": [
    "# TO DO"
   ]
  },
  {
   "cell_type": "markdown",
   "metadata": {},
   "source": [
    "> *Antwoord*"
   ]
  },
  {
   "cell_type": "markdown",
   "metadata": {},
   "source": [
    "---\n",
    "\n",
    "## 3. Introducing Intuitive Physics\n",
    "\n",
    "In het grid van 8x8 zien we dat de robot veel trials nodig heeft om een simpele taak op te lossen. En dit is nog maar een erg simpele wereld met slechts 64 states! We gaan nu proberen of we de Q-learning robot een beetje kunnen helpen sneller te leren. Zoals we in het college gezien hebben (en zie [hier](https://arxiv.org/pdf/1802.10217.pdf)) zijn mensen heel snel in het leren van computer games omdat ze hun kennis over de wereld toepassen op de spelwereld. Laten we dat hier ook proberen.\n",
    "\n",
    "### Q3.a (10 punten)\n",
    "\n",
    "Implementeer een nieuwe `q_learn_intuition` met drie toevoegingen die je makkelijk aan of uit kunt zetten, zodat je het algoritme met en zonder deze toevoeging kunt testen:\n",
    "* Negatieve reward\n",
    "* Muren\n",
    "* Cognitieve map\n",
    "\n",
    "__Negatieve reward__ <br>\n",
    "Om te beginnen is het voor de robot niet heel duidelijk dat in een wak vallen een slecht idee is. De beloning die er bij hoort is nu nul. Het is voor mensen duidelijk dat in een wak vallen niet goed is voor het behalen van het doel. Zo kan je dus de volgende kleine aanpassing maken:\n",
    "\n",
    "```python\n",
    " if done and reward == 0:\n",
    "     reward = -1\n",
    "```\n",
    "\n",
    "Dit moet direct na de `env.step()` stap waarbij `reward` is bepaald. Door een negatieve reward te gebruiken zal het model sneller leren wakken te vermijden.\n",
    "\n",
    "__Muren__ <br>\n",
    "Het is nu voor de robot nog mogelijk om tegen muren aan te botsen zonder daar iets over te leren. Wanneer de robot bijvoorbeeld vanaf state 3 (in de rechter boven hoek) naar rechts of boven probeert te lopen, zal de nieuwe state weer 3 zijn. Leer de robot af om dit te doen.\n",
    "\n",
    "__Cognitieve map__ <br>\n",
    "Leer de robot daarnaast dat als je in een wak loopt, je ook in dit wak loopt als je van een andere kant naar hetzelfde hokje loopt. Stel je loopt van boven in een wak, leer dan meteen dat je ook in datzelfde wak loopt als je er van links, rechts of van onder in loopt. Met andere woorden: introduceer een minimale intuitive physics! <br>\n",
    "   \n",
    "   *Hint: Houd hierbij rekening met dat sommige wakken tegen de randen aanzitten, update geen states die niet bestaan*\n",
    "\n",
    "Je kan naar de Q tables kijken om te zien of jouw implementatie gewerkt heeft."
   ]
  },
  {
   "cell_type": "code",
<<<<<<< HEAD
   "execution_count": null,
=======
   "execution_count": 15,
>>>>>>> d9cf4da (merge conflict)
   "metadata": {},
   "outputs": [],
   "source": [
    "def q_learn_intuition():\n",
    "    # TO DO\n",
    "    return total_rewards, num_steps, q_vals"
   ]
  },
  {
   "cell_type": "markdown",
   "metadata": {},
   "source": [
    "### Q3.b (4 punten)\n",
    "\n",
    "Run de verschillende implementaties van het model met geen, een of een combinatie van elementen van kennis. Run elk model 20 keer voor 500 episodes en vergelijk de average rewards. Run alles voor de zekerheid een paar keer om te voorkomen dat er door toevalligheid een raar resultaat uit komt.  Beschrijf hoe elk element wel of niet bijdraagt aan beter of sneller leren. \n",
    "\n",
    "De output moet er dus ongeveer zo uit zien:\n",
    "\n",
    "```python\n",
    "Baseline average score: \n",
    "Neg_reward average score: \n",
    "Muren average score: \n",
    "Cog_map average score: \n",
    "Neg_reward + muren average score: \n",
    "Neg_reward + cog_map average score:\n",
    "Muren + cog_map average score:\n",
    "Neg_reward + muren + cog_map  average score:\n",
    "```"
   ]
  },
  {
   "cell_type": "code",
<<<<<<< HEAD
   "execution_count": null,
=======
   "execution_count": 16,
>>>>>>> d9cf4da (merge conflict)
   "metadata": {},
   "outputs": [],
   "source": [
    "# TO DO"
   ]
  },
  {
   "cell_type": "markdown",
   "metadata": {},
   "source": [
    "> *Antwoord*"
   ]
  },
  {
   "cell_type": "markdown",
   "metadata": {},
   "source": [
    "### Q3.c  (3 punten)\n",
    "\n",
    "Laat van het beste model (run een aantal keer om te besluiten welke dat is) ook nog de grafieken van beloning en pad lengte zien, zodat je die kan vergelijken met die hierboven voor het baseline model. Beschrijf wat je ziet."
   ]
  },
  {
   "cell_type": "code",
<<<<<<< HEAD
   "execution_count": null,
=======
   "execution_count": 17,
>>>>>>> d9cf4da (merge conflict)
   "metadata": {},
   "outputs": [],
   "source": [
    "# TO DO"
   ]
  },
  {
   "cell_type": "markdown",
   "metadata": {},
   "source": [
    "> *Antwoord*"
   ]
  },
  {
   "cell_type": "markdown",
   "metadata": {},
   "source": [
    "### Q3.d More common sense (6 punten)\n",
    "Verzin zelf nog een ingreep die het model beter en sneller zou kunnen laten leren. Denk dan vooral na over hoe mensen, zoals jij, het spel zouden spelen. Laat zien of, en zo ja hoeveel beter jouw model werkt. \n",
    "\n",
    "Laat zien hoe jouw implementatie een verbetering is op het baseline model, maar ook of het nog wat toevoegd aan het best model van vraag Q3.b. "
   ]
  },
  {
   "cell_type": "code",
<<<<<<< HEAD
   "execution_count": null,
=======
   "execution_count": 18,
>>>>>>> d9cf4da (merge conflict)
   "metadata": {},
   "outputs": [],
   "source": [
    "# TO DO"
   ]
  },
  {
   "cell_type": "markdown",
   "metadata": {},
   "source": [
    "> *Antwoord*"
   ]
  },
  {
   "cell_type": "markdown",
   "metadata": {},
   "source": [
    "## Q Networks\n",
    "\n",
    "We hebben nu gewerkt met een kleine wereld met maar maximaal 64 states. De echte wereld, en veel leuke spelletjes, hebben natuurlijk een veel grotere state space, en dan wordt het al snel erg lastig om nog een Q table te gaan bijhouden. Dit is waar Q netwerken heel handig zijn, en dan met name Deep Q Networks (DQN). Een deep neural network kan helpen de state space een stuk beter generaliseerbaar te maken, en vergelijkbare Q-values toekennen aan states die veel op elkaar lijken, wat een hele waardevolle eigenschap blijkt (zie bijv. de oorspronkelijke DQN paper over Atari games leren spelen [hier](https://arxiv.org/pdf/1312.5602v1.pdf)).\n",
    "\n",
    "We gaan een Deep Q Netwerk in elkaar zetten in Google Colab. Open daarvoor eerst `Assignment_3_Uitleg_Colab`."
   ]
  }
 ],
 "metadata": {
  "kernelspec": {
   "display_name": "Python 3",
   "language": "python",
   "name": "python3"
  },
  "language_info": {
   "codemirror_mode": {
    "name": "ipython",
    "version": 3
   },
   "file_extension": ".py",
   "mimetype": "text/x-python",
   "name": "python",
   "nbconvert_exporter": "python",
   "pygments_lexer": "ipython3",
<<<<<<< HEAD
   "version": "3.13.1"
=======
   "version": "3.11.8"
>>>>>>> d9cf4da (merge conflict)
  }
 },
 "nbformat": 4,
 "nbformat_minor": 2
}
